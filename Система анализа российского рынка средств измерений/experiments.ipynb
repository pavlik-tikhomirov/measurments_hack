{
 "cells": [
  {
   "cell_type": "code",
   "execution_count": 1,
   "metadata": {},
   "outputs": [],
   "source": [
    "import os\n",
    "# import torch\n",
    "import numpy as np\n",
    "import pandas as pd\n",
    "# from torch.utils.data import Dataset\n",
    "import fitz\n",
    "from tqdm import tqdm\n",
    "import re"
   ]
  },
  {
   "cell_type": "code",
   "execution_count": 2,
   "metadata": {},
   "outputs": [],
   "source": [
    "full_data = pd.read_csv('Дата-сет для задачи №1\\\\Дата-сет_Задача 1.csv', sep=';', encoding=\"windows-1251\")"
   ]
  },
  {
   "cell_type": "code",
   "execution_count": 3,
   "metadata": {},
   "outputs": [
    {
     "name": "stdout",
     "output_type": "stream",
     "text": [
      "<class 'pandas.core.frame.DataFrame'>\n",
      "RangeIndex: 100425 entries, 0 to 100424\n",
      "Data columns (total 5 columns):\n",
      " #   Column                          Non-Null Count   Dtype  \n",
      "---  ------                          --------------   -----  \n",
      " 0   Номер_в_госреестре              100416 non-null  object \n",
      " 1   Наименование_СИ                 99851 non-null   object \n",
      " 2   Единица_измерения_СИ            0 non-null       float64\n",
      " 3   Погрешность_СИ                  0 non-null       float64\n",
      " 4   Наименование_файла_с_описанием  51694 non-null   object \n",
      "dtypes: float64(2), object(3)\n",
      "memory usage: 3.8+ MB\n"
     ]
    }
   ],
   "source": [
    "full_data.info()"
   ]
  },
  {
   "cell_type": "code",
   "execution_count": 4,
   "metadata": {},
   "outputs": [],
   "source": [
    "#\n",
    "\n",
    "have_file_df = full_data[(full_data['Наименование_файла_с_описанием'].notna())]\n",
    "print(have_file_df.shape)\n",
    "test_files = os.listdir('Дата-сет для задачи №1\\\\Разметка')\n",
    "print(len(test_files))\n",
    "answer_df = full_data[full_data['Наименование_файла_с_описанием'].isin(test_files)]\n",
    "print(answer_df.shape)\n",
    "answer_df = answer_df.drop_duplicates(['Наименование_файла_с_описанием'])\n",
    "print(answer_df.shape)"
   ]
  },
  {
   "cell_type": "code",
   "execution_count": 11,
   "metadata": {},
   "outputs": [],
   "source": [
    "file_names=[]\n",
    "for i in range(answer_df.shape[0]):\n",
    "    name = answer_df['Наименование_файла_с_описанием'].iloc[i]\n",
    "    if os.path.exists(f'Дата-сет для задачи №1\\\\Разметка\\\\{name}'):\n",
    "        file_names.append(f'Дата-сет для задачи №1\\\\Разметка\\\\{name}')"
   ]
  },
  {
   "cell_type": "code",
   "execution_count": 12,
   "metadata": {},
   "outputs": [],
   "source": [
    "file_small_names = [name.split('\\\\')[-1] for name in file_names]\n",
    "with open('file_small_names.txt', 'w') as f:\n",
    "    for item in file_small_names:\n",
    "        f.write(\"%s\\n\" % item)\n"
   ]
  },
  {
   "cell_type": "markdown",
   "metadata": {},
   "source": [
    "### PDF READER"
   ]
  },
  {
   "cell_type": "code",
   "execution_count": 72,
   "metadata": {},
   "outputs": [
    {
     "name": "stderr",
     "output_type": "stream",
     "text": [
      "100%|██████████| 886/886 [03:36<00:00,  4.08it/s]\n"
     ]
    }
   ],
   "source": [
    "new_data_dict = {}\n",
    "data_dict = {}\n",
    "for file_name in tqdm(file_names):\n",
    "    # list to store the co-ordinates of all highlights\n",
    "    highlights = []\n",
    "    # List to store all the highlighted texts\n",
    "    highlight_text = []\n",
    "    # read file\n",
    "    doc = fitz.open(file_name)\n",
    "    page_count = doc.page_count\n",
    "    for n in range(page_count):\n",
    "        # load page\n",
    "        page = doc.load_page(n)\n",
    "        # annot generator\n",
    "        annot = page.firstAnnot\n",
    "        # loop till we have highlight annotation in the page\n",
    "        while annot:\n",
    "            if annot.type[0] == 8:\n",
    "                all_coordinates = annot.vertices\n",
    "                if len(all_coordinates) == 4:\n",
    "                    highlight_coord = fitz.Quad(all_coordinates).rect\n",
    "                    highlights.append(highlight_coord)\n",
    "                else:\n",
    "                    all_coordinates = [all_coordinates[x:x+4] for x in range(0, len(all_coordinates), 4)]\n",
    "                    for i in range(0,len(all_coordinates)):\n",
    "                        coord = fitz.Quad(all_coordinates[i]).rect\n",
    "                        highlights.append(coord)\n",
    "            annot = annot.next\n",
    "\n",
    "        # all words from page\n",
    "        all_words = page.get_text_words()\n",
    "        \n",
    "        for h in highlights:\n",
    "            sentence = [w[4] for w in all_words if fitz.Rect(h).intersects(w[0:4])]\n",
    "            highlight_text.append(\" \".join(sentence))    \n",
    "\n",
    "        data_dict[file_name] = highlight_text\n",
    "        new_data_dict[file_name.split('\\\\')[-1]] = highlight_text"
   ]
  },
  {
   "cell_type": "code",
   "execution_count": 71,
   "metadata": {},
   "outputs": [],
   "source": [
    "# Мой датафрейм\n",
    "df = {i: list(item) for i, item in enumerate(data_dict.items())}\n",
    "df = pd.DataFrame.from_dict(df, orient='index', columns=['file_name', 'text'])\n"
   ]
  },
  {
   "cell_type": "code",
   "execution_count": 73,
   "metadata": {},
   "outputs": [],
   "source": [
    "# Общий датафрейм\n",
    "df = {i: list(item) for i, item in enumerate(new_data_dict.items())}\n",
    "df = pd.DataFrame.from_dict(df, orient='index', columns=['file_name', 'text'])\n",
    "df.to_csv('train_df.csv')"
   ]
  },
  {
   "cell_type": "code",
   "execution_count": 74,
   "metadata": {},
   "outputs": [
    {
     "data": {
      "text/html": [
       "<div>\n",
       "<style scoped>\n",
       "    .dataframe tbody tr th:only-of-type {\n",
       "        vertical-align: middle;\n",
       "    }\n",
       "\n",
       "    .dataframe tbody tr th {\n",
       "        vertical-align: top;\n",
       "    }\n",
       "\n",
       "    .dataframe thead th {\n",
       "        text-align: right;\n",
       "    }\n",
       "</style>\n",
       "<table border=\"1\" class=\"dataframe\">\n",
       "  <thead>\n",
       "    <tr style=\"text-align: right;\">\n",
       "      <th></th>\n",
       "      <th>file_name</th>\n",
       "      <th>text</th>\n",
       "    </tr>\n",
       "  </thead>\n",
       "  <tbody>\n",
       "    <tr>\n",
       "      <th>0</th>\n",
       "      <td>2011-46695-11.pdf</td>\n",
       "      <td>[Системы весоизмерительные многоплатформенные ...</td>\n",
       "    </tr>\n",
       "    <tr>\n",
       "      <th>1</th>\n",
       "      <td>2011-46750-11.pdf</td>\n",
       "      <td>[Система автоматизированная информационно-изме...</td>\n",
       "    </tr>\n",
       "    <tr>\n",
       "      <th>2</th>\n",
       "      <td>2019-58208-14-1.pdf</td>\n",
       "      <td>[Весы автомобильные ВАС, В качестве весоизмери...</td>\n",
       "    </tr>\n",
       "    <tr>\n",
       "      <th>3</th>\n",
       "      <td>2012-49648-12.pdf</td>\n",
       "      <td>[Датчики силоизмерительные тензорезисторные S3...</td>\n",
       "    </tr>\n",
       "    <tr>\n",
       "      <th>4</th>\n",
       "      <td>2019-57469-14.pdf</td>\n",
       "      <td>[Счетчики тепловой энергии ультразвуковые CF, ...</td>\n",
       "    </tr>\n",
       "    <tr>\n",
       "      <th>...</th>\n",
       "      <td>...</td>\n",
       "      <td>...</td>\n",
       "    </tr>\n",
       "    <tr>\n",
       "      <th>881</th>\n",
       "      <td>2020-79291-20.pdf</td>\n",
       "      <td>[Твердомеры стационарные Бринелля NOVOTEST TС-...</td>\n",
       "    </tr>\n",
       "    <tr>\n",
       "      <th>882</th>\n",
       "      <td>2005-30815-05.pdf</td>\n",
       "      <td>[Трансформатор напряжения эталонный, мобильный...</td>\n",
       "    </tr>\n",
       "    <tr>\n",
       "      <th>883</th>\n",
       "      <td>2021-44940-10.pdf</td>\n",
       "      <td>[cnyrumconurx cucreer GSS8000, I hlllT HT OP b...</td>\n",
       "    </tr>\n",
       "    <tr>\n",
       "      <th>884</th>\n",
       "      <td>2021-43863-10.pdf</td>\n",
       "      <td>[AHam133TOpbl «I&gt;a30Bbix urysron\\n aapuaunn An...</td>\n",
       "    </tr>\n",
       "    <tr>\n",
       "      <th>885</th>\n",
       "      <td>2021-69266-17-1.pdf</td>\n",
       "      <td>[Система автоматизированная информационно-изме...</td>\n",
       "    </tr>\n",
       "  </tbody>\n",
       "</table>\n",
       "<p>886 rows × 2 columns</p>\n",
       "</div>"
      ],
      "text/plain": [
       "               file_name                                               text\n",
       "0      2011-46695-11.pdf  [Системы весоизмерительные многоплатформенные ...\n",
       "1      2011-46750-11.pdf  [Система автоматизированная информационно-изме...\n",
       "2    2019-58208-14-1.pdf  [Весы автомобильные ВАС, В качестве весоизмери...\n",
       "3      2012-49648-12.pdf  [Датчики силоизмерительные тензорезисторные S3...\n",
       "4      2019-57469-14.pdf  [Счетчики тепловой энергии ультразвуковые CF, ...\n",
       "..                   ...                                                ...\n",
       "881    2020-79291-20.pdf  [Твердомеры стационарные Бринелля NOVOTEST TС-...\n",
       "882    2005-30815-05.pdf  [Трансформатор напряжения эталонный, мобильный...\n",
       "883    2021-44940-10.pdf  [cnyrumconurx cucreer GSS8000, I hlllT HT OP b...\n",
       "884    2021-43863-10.pdf  [AHam133TOpbl «I>a30Bbix urysron\\n aapuaunn An...\n",
       "885  2021-69266-17-1.pdf  [Система автоматизированная информационно-изме...\n",
       "\n",
       "[886 rows x 2 columns]"
      ]
     },
     "execution_count": 74,
     "metadata": {},
     "output_type": "execute_result"
    }
   ],
   "source": [
    "df"
   ]
  },
  {
   "cell_type": "markdown",
   "metadata": {},
   "source": [
    "### Подготовка датасета для обучения классификатора"
   ]
  },
  {
   "cell_type": "code",
   "execution_count": null,
   "metadata": {},
   "outputs": [],
   "source": []
  }
 ],
 "metadata": {
  "interpreter": {
   "hash": "7cc005b3bc148af7d0fb17f84f7c8b2766258f8d8232b64f86a7d093c3d20f22"
  },
  "kernelspec": {
   "display_name": "Python 3.9.13 64-bit (windows store)",
   "language": "python",
   "name": "python3"
  },
  "language_info": {
   "codemirror_mode": {
    "name": "ipython",
    "version": 3
   },
   "file_extension": ".py",
   "mimetype": "text/x-python",
   "name": "python",
   "nbconvert_exporter": "python",
   "pygments_lexer": "ipython3",
   "version": "3.9.13"
  },
  "orig_nbformat": 4
 },
 "nbformat": 4,
 "nbformat_minor": 2
}

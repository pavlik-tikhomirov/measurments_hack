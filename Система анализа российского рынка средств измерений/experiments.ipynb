{
 "cells": [
  {
   "cell_type": "code",
   "execution_count": 2,
   "metadata": {},
   "outputs": [],
   "source": [
    "import os\n",
    "# import torch\n",
    "import numpy as np\n",
    "import pandas as pd\n",
    "# from torch.utils.data import Dataset\n",
    "import fitz\n",
    "from tqdm import tqdm\n",
    "import re"
   ]
  },
  {
   "cell_type": "code",
   "execution_count": 2,
   "metadata": {},
   "outputs": [],
   "source": [
    "main_path = 'Дата-сет для задачи №1\\\\Разметка\\\\'"
   ]
  },
  {
   "cell_type": "code",
   "execution_count": 3,
   "metadata": {},
   "outputs": [],
   "source": [
    "full_data = pd.read_csv('Дата-сет для задачи №1\\\\Дата-сет_Задача 1.csv', sep=';', encoding=\"windows-1251\")"
   ]
  },
  {
   "cell_type": "code",
   "execution_count": 3,
   "metadata": {},
   "outputs": [
    {
     "name": "stdout",
     "output_type": "stream",
     "text": [
      "<class 'pandas.core.frame.DataFrame'>\n",
      "RangeIndex: 100425 entries, 0 to 100424\n",
      "Data columns (total 5 columns):\n",
      " #   Column                          Non-Null Count   Dtype  \n",
      "---  ------                          --------------   -----  \n",
      " 0   Номер_в_госреестре              100416 non-null  object \n",
      " 1   Наименование_СИ                 99851 non-null   object \n",
      " 2   Единица_измерения_СИ            0 non-null       float64\n",
      " 3   Погрешность_СИ                  0 non-null       float64\n",
      " 4   Наименование_файла_с_описанием  51694 non-null   object \n",
      "dtypes: float64(2), object(3)\n",
      "memory usage: 3.8+ MB\n"
     ]
    }
   ],
   "source": [
    "full_data.info()"
   ]
  },
  {
   "cell_type": "code",
   "execution_count": 4,
   "metadata": {},
   "outputs": [
    {
     "name": "stdout",
     "output_type": "stream",
     "text": [
      "(51694, 5)\n",
      "1106\n",
      "(895, 5)\n",
      "(886, 5)\n"
     ]
    }
   ],
   "source": [
    "#\n",
    "\n",
    "have_file_df = full_data[(full_data['Наименование_файла_с_описанием'].notna())]\n",
    "print(have_file_df.shape)\n",
    "test_files = os.listdir('Дата-сет для задачи №1\\\\Разметка')\n",
    "print(len(test_files))\n",
    "answer_df = full_data[full_data['Наименование_файла_с_описанием'].isin(test_files)]\n",
    "print(answer_df.shape)\n",
    "answer_df = answer_df.drop_duplicates(['Наименование_файла_с_описанием'])\n",
    "print(answer_df.shape)"
   ]
  },
  {
   "cell_type": "code",
   "execution_count": 6,
   "metadata": {},
   "outputs": [],
   "source": [
    "answer_df.to_csv('answer_df.csv')"
   ]
  },
  {
   "cell_type": "code",
   "execution_count": 6,
   "metadata": {},
   "outputs": [],
   "source": [
    "file_names=[]\n",
    "for i in range(answer_df.shape[0]):\n",
    "    name = answer_df['Наименование_файла_с_описанием'].iloc[i]\n",
    "    if os.path.exists(f'Дата-сет для задачи №1\\\\Разметка\\\\{name}'):\n",
    "        file_names.append(f'Дата-сет для задачи №1\\\\Разметка\\\\{name}')"
   ]
  },
  {
   "cell_type": "code",
   "execution_count": 7,
   "metadata": {},
   "outputs": [],
   "source": [
    "file_small_names = [name.split('\\\\')[-1] for name in file_names]\n",
    "with open('file_small_names.txt', 'w') as f:\n",
    "    for item in file_small_names:\n",
    "        f.write(\"%s\\n\" % item)\n"
   ]
  },
  {
   "cell_type": "markdown",
   "metadata": {},
   "source": [
    "### PDF HIGHLIGHTS READER"
   ]
  },
  {
   "cell_type": "code",
   "execution_count": 72,
   "metadata": {},
   "outputs": [
    {
     "name": "stderr",
     "output_type": "stream",
     "text": [
      "100%|██████████| 886/886 [03:36<00:00,  4.08it/s]\n"
     ]
    }
   ],
   "source": [
    "# new_data_dict = {}\n",
    "# data_dict = {}\n",
    "# for file_name in tqdm(file_names):\n",
    "#     # list to store the co-ordinates of all highlights\n",
    "#     highlights = []\n",
    "#     # List to store all the highlighted texts\n",
    "#     highlight_text = []\n",
    "#     # read file\n",
    "#     doc = fitz.open(file_name)\n",
    "#     page_count = doc.page_count\n",
    "#     for n in range(page_count):\n",
    "#         # load page\n",
    "#         page = doc.load_page(n)\n",
    "#         # annot generator\n",
    "#         annot = page.firstAnnot\n",
    "#         # loop till we have highlight annotation in the page\n",
    "#         while annot:\n",
    "#             if annot.type[0] == 8:\n",
    "#                 all_coordinates = annot.vertices\n",
    "#                 if len(all_coordinates) == 4:\n",
    "#                     highlight_coord = fitz.Quad(all_coordinates).rect\n",
    "#                     highlights.append(highlight_coord)\n",
    "#                 else:\n",
    "#                     all_coordinates = [all_coordinates[x:x+4] for x in range(0, len(all_coordinates), 4)]\n",
    "#                     for i in range(0,len(all_coordinates)):\n",
    "#                         coord = fitz.Quad(all_coordinates[i]).rect\n",
    "#                         highlights.append(coord)\n",
    "#             annot = annot.next\n",
    "\n",
    "#         # all words from page\n",
    "#         all_words = page.get_text_words()\n",
    "        \n",
    "#         for h in highlights:\n",
    "#             sentence = [w[4] for w in all_words if fitz.Rect(h).intersects(w[0:4])]\n",
    "#             highlight_text.append(\" \".join(sentence))    \n",
    "\n",
    "#         data_dict[file_name] = highlight_text\n",
    "#         new_data_dict[file_name.split('\\\\')[-1]] = highlight_text"
   ]
  },
  {
   "cell_type": "code",
   "execution_count": 64,
   "metadata": {},
   "outputs": [],
   "source": [
    "def parse_pdf(file_name):\n",
    "    '''\n",
    "    Из всего пдф файла парсит highlights и возвращает текст и цвет\n",
    "    '''\n",
    "    # List to store all the highlighted texts\n",
    "    highlight_text = []\n",
    "    # read file\n",
    "    doc = fitz.open(file_name)\n",
    "    page_count = doc.page_count\n",
    "    for n in range(page_count):\n",
    "        # list to store the co-ordinates of all highlights\n",
    "        highlights = []\n",
    "        # load page\n",
    "        page = doc.load_page(n)\n",
    "        # annot generator\n",
    "        annot = page.firstAnnot\n",
    "        # loop till we have highlight annotation in the page\n",
    "        while annot:\n",
    "            if annot.type[0] == 8:\n",
    "                all_coordinates = annot.vertices\n",
    "                if len(all_coordinates) == 4:\n",
    "                    highlight_coord = fitz.Quad(all_coordinates).rect\n",
    "                    highlights.append((highlight_coord, annot.colors))\n",
    "\n",
    "                else:\n",
    "                    all_coordinates = [all_coordinates[x:x+4] for x in range(0, len(all_coordinates), 4)]\n",
    "                    for i in range(0,len(all_coordinates)):\n",
    "                        coord = fitz.Quad(all_coordinates[i]).rect\n",
    "                        highlights.append((coord, annot.colors))\n",
    "            annot = annot.next\n",
    "\n",
    "        # all words from page\n",
    "        all_words = page.get_text_words()\n",
    "        highlights = sorted(highlights, key=lambda x: tuple(x[0])[1])\n",
    "        for h in highlights:\n",
    "            sentence = [w[4] for w in all_words if fitz.Rect(h[0]).intersects(w[0:4])]\n",
    "            highlight_text.append((\" \".join(sentence), h[1]))\n",
    "        \n",
    "    return highlight_text"
   ]
  },
  {
   "cell_type": "code",
   "execution_count": 78,
   "metadata": {},
   "outputs": [],
   "source": [
    "def create_pdf_dict(highlight_text):\n",
    "    def color_define(tup):\n",
    "        if tup[2] > 0.9:\n",
    "            return 'error'\n",
    "        if tup[0] > 0.9:\n",
    "            return 'name'\n",
    "        else:\n",
    "            return 'unit'\n",
    "\n",
    "    my_dict = {'name': [], 'unit': [], 'error': []} # одна пдфка\n",
    "    for i in highlight_text:\n",
    "        my_dict[color_define(i[1]['stroke'])].append(i[0])\n",
    "    for key in my_dict:\n",
    "        my_dict[key] = ' '.join(my_dict[key])\n",
    "    \n",
    "    return my_dict\n"
   ]
  },
  {
   "cell_type": "code",
   "execution_count": 291,
   "metadata": {},
   "outputs": [
    {
     "name": "stderr",
     "output_type": "stream",
     "text": [
      "100%|██████████| 1106/1106 [02:07<00:00,  8.64it/s]\n"
     ]
    }
   ],
   "source": [
    "data = []\n",
    "for file_name in tqdm(os.listdir(main_path)): #для обучения на пересекающейся выборке file_small_names\n",
    "    tmp_dict = create_pdf_dict(parse_pdf(main_path+file_name))\n",
    "    tmp_dict['file_name'] = file_name\n",
    "    data.append(tmp_dict)\n",
    "df = pd.DataFrame(data)"
   ]
  },
  {
   "cell_type": "code",
   "execution_count": 292,
   "metadata": {},
   "outputs": [],
   "source": [
    "df['true_unit'] = df['unit'].str.extract(r\"(, [°СА-я1-9]+)\")\n",
    "df.true_unit = df.true_unit.str.slice(2)\n",
    "\n",
    "# Обработка Диапазон\n",
    "str_diap_idx = df[df.true_unit.isin(['Диапазон'])].index\n",
    "df.loc[str_diap_idx, 'unit'] = df.loc[str_diap_idx, 'unit'] + ' '\n",
    "tmp_df = df[df.true_unit.isin(['Диапазон'])].unit.str.extract(r\"(, [°СА-я•]{1,3}[1-9]? )\")\n",
    "df.loc[str_diap_idx, 'true_unit'] = tmp_df[0].str.slice(2,-1).values\n",
    "\n",
    "# Обработка измерений, измерения\n",
    "str_diap_idx = df[df.true_unit.isin(['измерений', 'измерения'])].index\n",
    "df.loc[str_diap_idx, 'unit'] = df.loc[str_diap_idx, 'unit'] + ' '\n",
    "tmp_df = df[df.true_unit.isin(['измерений', 'измерения'])].unit.str.extract(r\"(, [°СА-я•]{1,5}[1-9]? )\")\n",
    "df.loc[str_diap_idx, 'true_unit'] = tmp_df[0].str.slice(2,-1).values\n",
    "\n",
    "# Обработка Пределы\n",
    "str_diap_idx = df[df.true_unit.isin(['Пределы'])].index\n",
    "tmp_df = df[df.true_unit.isin(['Пределы'])].unit.str.extract(r\"([°СА-я•]{1,3}[1-9]?)\")\n",
    "df.loc[str_diap_idx, 'true_unit'] = tmp_df[0].values"
   ]
  },
  {
   "cell_type": "code",
   "execution_count": 303,
   "metadata": {},
   "outputs": [],
   "source": [
    "df.to_csv('unit_train_df.csv')"
   ]
  },
  {
   "cell_type": "code",
   "execution_count": 71,
   "metadata": {},
   "outputs": [],
   "source": [
    "# Мой датафрейм\n",
    "df = {i: list(item) for i, item in enumerate(data_dict.items())}\n",
    "df = pd.DataFrame.from_dict(df, orient='index', columns=['file_name', 'text'])\n"
   ]
  },
  {
   "cell_type": "code",
   "execution_count": 73,
   "metadata": {},
   "outputs": [],
   "source": [
    "# Общий датафрейм\n",
    "df = {i: list(item) for i, item in enumerate(new_data_dict.items())}\n",
    "df = pd.DataFrame.from_dict(df, orient='index', columns=['file_name', 'text'])\n",
    "df.to_csv('train_df.csv')"
   ]
  },
  {
   "cell_type": "markdown",
   "metadata": {},
   "source": [
    "### PDF Full texts for classification"
   ]
  },
  {
   "cell_type": "code",
   "execution_count": 300,
   "metadata": {},
   "outputs": [
    {
     "name": "stderr",
     "output_type": "stream",
     "text": [
      "100%|██████████| 1106/1106 [01:07<00:00, 16.30it/s]\n"
     ]
    }
   ],
   "source": [
    "data_dict = {}\n",
    "for file_name in tqdm(os.listdir(main_path)):\n",
    "        text=''\n",
    "        doc = fitz.open(main_path + file_name)\n",
    "        page_count = doc.page_count\n",
    "        for n in range(page_count):\n",
    "                page = doc.load_page(n)\n",
    "                text += page.get_text()\n",
    "        data_dict[file_name] = text\n"
   ]
  },
  {
   "cell_type": "code",
   "execution_count": 301,
   "metadata": {},
   "outputs": [],
   "source": [
    "pdf_df = {i: list(item) for i, item in enumerate(data_dict.items())}\n",
    "pdf_df = pd.DataFrame.from_dict(pdf_df, orient='index', columns=['file_name', 'text'])\n",
    "pdf_df.to_csv('full_train_df.csv')"
   ]
  },
  {
   "cell_type": "code",
   "execution_count": 304,
   "metadata": {},
   "outputs": [
    {
     "data": {
      "text/html": [
       "<div>\n",
       "<style scoped>\n",
       "    .dataframe tbody tr th:only-of-type {\n",
       "        vertical-align: middle;\n",
       "    }\n",
       "\n",
       "    .dataframe tbody tr th {\n",
       "        vertical-align: top;\n",
       "    }\n",
       "\n",
       "    .dataframe thead th {\n",
       "        text-align: right;\n",
       "    }\n",
       "</style>\n",
       "<table border=\"1\" class=\"dataframe\">\n",
       "  <thead>\n",
       "    <tr style=\"text-align: right;\">\n",
       "      <th></th>\n",
       "      <th>file_name</th>\n",
       "      <th>text</th>\n",
       "    </tr>\n",
       "  </thead>\n",
       "  <tbody>\n",
       "    <tr>\n",
       "      <th>0</th>\n",
       "      <td>2005-30815-05.pdf</td>\n",
       "      <td>Трансформатор напряжения эталонный\\nмобильный ...</td>\n",
       "    </tr>\n",
       "    <tr>\n",
       "      <th>1</th>\n",
       "      <td>2008-01054-08.pdf</td>\n",
       "      <td></td>\n",
       "    </tr>\n",
       "    <tr>\n",
       "      <th>2</th>\n",
       "      <td>2008-27361-04.pdf</td>\n",
       "      <td>Счетчики скоростные крыльчатые\\nхолодной и гор...</td>\n",
       "    </tr>\n",
       "    <tr>\n",
       "      <th>3</th>\n",
       "      <td>2008-34048-08.pdf</td>\n",
       "      <td>Счетчики активной\\nэлектрической энергии трехф...</td>\n",
       "    </tr>\n",
       "    <tr>\n",
       "      <th>4</th>\n",
       "      <td>2008-34291-07.pdf</td>\n",
       "      <td>Внесены в Государственный реестр\\nсредств изме...</td>\n",
       "    </tr>\n",
       "    <tr>\n",
       "      <th>...</th>\n",
       "      <td>...</td>\n",
       "      <td>...</td>\n",
       "    </tr>\n",
       "    <tr>\n",
       "      <th>1101</th>\n",
       "      <td>2021-82991-21.pdf</td>\n",
       "      <td>УТВЕРЖДЕНО \\nприказом Федерального агентства \\...</td>\n",
       "    </tr>\n",
       "    <tr>\n",
       "      <th>1102</th>\n",
       "      <td>2021-83010-21.pdf</td>\n",
       "      <td>УТВЕРЖДЕНО \\nприказом Федерального агентства \\...</td>\n",
       "    </tr>\n",
       "    <tr>\n",
       "      <th>1103</th>\n",
       "      <td>2021-83333-21.pdf</td>\n",
       "      <td>\\nУТВЕРЖДЕНО \\nприказом Федерального агентств...</td>\n",
       "    </tr>\n",
       "    <tr>\n",
       "      <th>1104</th>\n",
       "      <td>2021-83360-21.pdf</td>\n",
       "      <td>\\nУТВЕРЖДЕНО \\nприказом Федерального агентств...</td>\n",
       "    </tr>\n",
       "    <tr>\n",
       "      <th>1105</th>\n",
       "      <td>2021-83556-21.pdf</td>\n",
       "      <td>\\nУТВЕРЖДЕНО \\nприказом Федерального агентств...</td>\n",
       "    </tr>\n",
       "  </tbody>\n",
       "</table>\n",
       "<p>1106 rows × 2 columns</p>\n",
       "</div>"
      ],
      "text/plain": [
       "              file_name                                               text\n",
       "0     2005-30815-05.pdf  Трансформатор напряжения эталонный\\nмобильный ...\n",
       "1     2008-01054-08.pdf                                                   \n",
       "2     2008-27361-04.pdf  Счетчики скоростные крыльчатые\\nхолодной и гор...\n",
       "3     2008-34048-08.pdf  Счетчики активной\\nэлектрической энергии трехф...\n",
       "4     2008-34291-07.pdf  Внесены в Государственный реестр\\nсредств изме...\n",
       "...                 ...                                                ...\n",
       "1101  2021-82991-21.pdf  УТВЕРЖДЕНО \\nприказом Федерального агентства \\...\n",
       "1102  2021-83010-21.pdf  УТВЕРЖДЕНО \\nприказом Федерального агентства \\...\n",
       "1103  2021-83333-21.pdf   \\nУТВЕРЖДЕНО \\nприказом Федерального агентств...\n",
       "1104  2021-83360-21.pdf   \\nУТВЕРЖДЕНО \\nприказом Федерального агентств...\n",
       "1105  2021-83556-21.pdf   \\nУТВЕРЖДЕНО \\nприказом Федерального агентств...\n",
       "\n",
       "[1106 rows x 2 columns]"
      ]
     },
     "execution_count": 304,
     "metadata": {},
     "output_type": "execute_result"
    }
   ],
   "source": [
    "pdf_df"
   ]
  },
  {
   "cell_type": "markdown",
   "metadata": {},
   "source": [
    "### data_union"
   ]
  },
  {
   "cell_type": "code",
   "execution_count": 17,
   "metadata": {},
   "outputs": [
    {
     "name": "stderr",
     "output_type": "stream",
     "text": [
      "  6%|▌         | 34/573 [01:56<30:48,  3.43s/it]"
     ]
    },
    {
     "name": "stdout",
     "output_type": "stream",
     "text": [
      "034 AoEqMS0xOTUyMDcyMQ==.csv\n"
     ]
    },
    {
     "name": "stderr",
     "output_type": "stream",
     "text": [
      "  7%|▋         | 40/573 [02:13<21:22,  2.41s/it]"
     ]
    },
    {
     "name": "stdout",
     "output_type": "stream",
     "text": [
      "040 AoEqMS0yMjIzNjkyNw==.csv\n"
     ]
    },
    {
     "name": "stderr",
     "output_type": "stream",
     "text": [
      "  8%|▊         | 46/573 [02:33<24:20,  2.77s/it]"
     ]
    },
    {
     "name": "stdout",
     "output_type": "stream",
     "text": [
      "046 AoEqMS0yNDk0MjkyNw==.csv\n"
     ]
    },
    {
     "name": "stderr",
     "output_type": "stream",
     "text": [
      "  9%|▊         | 49/573 [02:41<23:03,  2.64s/it]"
     ]
    },
    {
     "name": "stdout",
     "output_type": "stream",
     "text": [
      "049 AoEqMS0yNjMwMDU2Mg==.csv\n"
     ]
    },
    {
     "name": "stderr",
     "output_type": "stream",
     "text": [
      " 10%|█         | 60/573 [03:22<30:57,  3.62s/it]"
     ]
    },
    {
     "name": "stdout",
     "output_type": "stream",
     "text": [
      "060 AoEqMS0zMTMwNTY5Ng==.csv\n"
     ]
    },
    {
     "name": "stderr",
     "output_type": "stream",
     "text": [
      " 14%|█▍        | 79/573 [04:36<24:46,  3.01s/it]"
     ]
    },
    {
     "name": "stdout",
     "output_type": "stream",
     "text": [
      "079 AoEoMS0zOTk1NzM=.csv\n"
     ]
    },
    {
     "name": "stderr",
     "output_type": "stream",
     "text": [
      " 16%|█▌        | 93/573 [05:28<29:38,  3.71s/it]"
     ]
    },
    {
     "name": "stdout",
     "output_type": "stream",
     "text": [
      "093 AoEqMS00NjM3MDY5Mw==.csv\n"
     ]
    },
    {
     "name": "stderr",
     "output_type": "stream",
     "text": [
      " 17%|█▋        | 99/573 [05:50<28:08,  3.56s/it]"
     ]
    },
    {
     "name": "stdout",
     "output_type": "stream",
     "text": [
      "099 AoEqMS00OTEwMzEzNQ==.csv\n"
     ]
    },
    {
     "name": "stderr",
     "output_type": "stream",
     "text": [
      " 18%|█▊        | 104/573 [06:10<31:43,  4.06s/it]"
     ]
    },
    {
     "name": "stdout",
     "output_type": "stream",
     "text": [
      "104 AoEqMS01MTM2Mjg2Mg==.csv\n"
     ]
    },
    {
     "name": "stderr",
     "output_type": "stream",
     "text": [
      " 19%|█▉        | 110/573 [06:46<45:12,  5.86s/it]"
     ]
    },
    {
     "name": "stdout",
     "output_type": "stream",
     "text": [
      "110 AoEqMS01NDA3MDg3MQ==.csv\n"
     ]
    },
    {
     "name": "stderr",
     "output_type": "stream",
     "text": [
      " 38%|███▊      | 218/573 [13:35<13:55,  2.35s/it]C:\\Users\\ptmeg\\AppData\\Local\\Temp\\ipykernel_396\\3559771164.py:7: DtypeWarning: Columns (4) have mixed types. Specify dtype option on import or set low_memory=False.\n",
      "  tmp_df = pd.read_csv(data2_path+csv_file, sep=';', encoding='windows-1251')\n",
      "\n",
      " 38%|███▊      | 219/573 [13:44<25:01,  4.24s/it]C:\\Users\\ptmeg\\AppData\\Local\\Temp\\ipykernel_396\\3559771164.py:7: DtypeWarning: Columns (4) have mixed types. Specify dtype option on import or set low_memory=False.\n",
      "  tmp_df = pd.read_csv(data2_path+csv_file, sep=';', encoding='windows-1251')\n",
      "\n",
      " 39%|███▊      | 221/573 [13:48<19:10,  3.27s/it]C:\\Users\\ptmeg\\AppData\\Local\\Temp\\ipykernel_396\\3559771164.py:7: DtypeWarning: Columns (4) have mixed types. Specify dtype option on import or set low_memory=False.\n",
      "  tmp_df = pd.read_csv(data2_path+csv_file, sep=';', encoding='windows-1251')\n",
      "\n",
      " 40%|████      | 231/573 [14:20<18:26,  3.23s/it]C:\\Users\\ptmeg\\AppData\\Local\\Temp\\ipykernel_396\\3559771164.py:7: DtypeWarning: Columns (4) have mixed types. Specify dtype option on import or set low_memory=False.\n",
      "  tmp_df = pd.read_csv(data2_path+csv_file, sep=';', encoding='windows-1251')\n",
      "\n",
      " 40%|████      | 232/573 [14:22<17:14,  3.03s/it]C:\\Users\\ptmeg\\AppData\\Local\\Temp\\ipykernel_396\\3559771164.py:7: DtypeWarning: Columns (4) have mixed types. Specify dtype option on import or set low_memory=False.\n",
      "  tmp_df = pd.read_csv(data2_path+csv_file, sep=';', encoding='windows-1251')\n",
      "\n",
      " 41%|████      | 236/573 [14:34<17:07,  3.05s/it]C:\\Users\\ptmeg\\AppData\\Local\\Temp\\ipykernel_396\\3559771164.py:7: DtypeWarning: Columns (4) have mixed types. Specify dtype option on import or set low_memory=False.\n",
      "  tmp_df = pd.read_csv(data2_path+csv_file, sep=';', encoding='windows-1251')\n",
      "\n",
      " 42%|████▏     | 239/573 [14:42<16:01,  2.88s/it]C:\\Users\\ptmeg\\AppData\\Local\\Temp\\ipykernel_396\\3559771164.py:7: DtypeWarning: Columns (4) have mixed types. Specify dtype option on import or set low_memory=False.\n",
      "  tmp_df = pd.read_csv(data2_path+csv_file, sep=';', encoding='windows-1251')\n",
      "\n",
      " 42%|████▏     | 240/573 [14:45<15:30,  2.80s/it]C:\\Users\\ptmeg\\AppData\\Local\\Temp\\ipykernel_396\\3559771164.py:7: DtypeWarning: Columns (4) have mixed types. Specify dtype option on import or set low_memory=False.\n",
      "  tmp_df = pd.read_csv(data2_path+csv_file, sep=';', encoding='windows-1251')\n",
      "\n",
      " 47%|████▋     | 272/573 [16:28<18:17,  3.65s/it]C:\\Users\\ptmeg\\AppData\\Local\\Temp\\ipykernel_396\\3559771164.py:7: DtypeWarning: Columns (4) have mixed types. Specify dtype option on import or set low_memory=False.\n",
      "  tmp_df = pd.read_csv(data2_path+csv_file, sep=';', encoding='windows-1251')\n",
      "\n",
      " 48%|████▊     | 273/573 [16:31<17:14,  3.45s/it]C:\\Users\\ptmeg\\AppData\\Local\\Temp\\ipykernel_396\\3559771164.py:7: DtypeWarning: Columns (4) have mixed types. Specify dtype option on import or set low_memory=False.\n",
      "  tmp_df = pd.read_csv(data2_path+csv_file, sep=';', encoding='windows-1251')\n",
      "\n",
      " 48%|████▊     | 274/573 [16:34<16:38,  3.34s/it]C:\\Users\\ptmeg\\AppData\\Local\\Temp\\ipykernel_396\\3559771164.py:7: DtypeWarning: Columns (3) have mixed types. Specify dtype option on import or set low_memory=False.\n",
      "  tmp_df = pd.read_csv(data2_path+csv_file, sep=';', encoding='windows-1251')\n",
      "\n",
      " 48%|████▊     | 275/573 [16:38<18:04,  3.64s/it]"
     ]
    },
    {
     "name": "stdout",
     "output_type": "stream",
     "text": [
      "275 AoErMi0xMjg4MzkwODY=.csv\n"
     ]
    },
    {
     "name": "stderr",
     "output_type": "stream",
     "text": [
      "C:\\Users\\ptmeg\\AppData\\Local\\Temp\\ipykernel_396\\3559771164.py:7: DtypeWarning: Columns (4) have mixed types. Specify dtype option on import or set low_memory=False.\n",
      "  tmp_df = pd.read_csv(data2_path+csv_file, sep=';', encoding='windows-1251')\n",
      "\n",
      " 48%|████▊     | 277/573 [16:42<12:55,  2.62s/it]"
     ]
    },
    {
     "name": "stdout",
     "output_type": "stream",
     "text": [
      "277 AoErMi0xMjk3MzkwODY=.csv\n"
     ]
    },
    {
     "name": "stderr",
     "output_type": "stream",
     "text": [
      " 49%|████▊     | 278/573 [16:43<09:45,  1.98s/it]"
     ]
    },
    {
     "name": "stdout",
     "output_type": "stream",
     "text": [
      "278 AoErMi0xMzAxODkwODg=.csv\n"
     ]
    },
    {
     "name": "stderr",
     "output_type": "stream",
     "text": [
      " 49%|████▊     | 279/573 [16:47<12:54,  2.64s/it]"
     ]
    },
    {
     "name": "stdout",
     "output_type": "stream",
     "text": [
      "279 AoErMi0xMzA2MzkwOTE=.csv\n"
     ]
    },
    {
     "name": "stderr",
     "output_type": "stream",
     "text": [
      " 49%|████▉     | 283/573 [17:00<14:36,  3.02s/it]C:\\Users\\ptmeg\\AppData\\Local\\Temp\\ipykernel_396\\3559771164.py:7: DtypeWarning: Columns (4) have mixed types. Specify dtype option on import or set low_memory=False.\n",
      "  tmp_df = pd.read_csv(data2_path+csv_file, sep=';', encoding='windows-1251')\n",
      "\n",
      " 50%|████▉     | 284/573 [17:03<14:52,  3.09s/it]C:\\Users\\ptmeg\\AppData\\Local\\Temp\\ipykernel_396\\3559771164.py:7: DtypeWarning: Columns (4) have mixed types. Specify dtype option on import or set low_memory=False.\n",
      "  tmp_df = pd.read_csv(data2_path+csv_file, sep=';', encoding='windows-1251')\n",
      "\n",
      " 50%|████▉     | 286/573 [17:09<14:12,  2.97s/it]C:\\Users\\ptmeg\\AppData\\Local\\Temp\\ipykernel_396\\3559771164.py:7: DtypeWarning: Columns (4) have mixed types. Specify dtype option on import or set low_memory=False.\n",
      "  tmp_df = pd.read_csv(data2_path+csv_file, sep=';', encoding='windows-1251')\n",
      "\n",
      " 50%|█████     | 288/573 [17:13<12:09,  2.56s/it]"
     ]
    },
    {
     "name": "stdout",
     "output_type": "stream",
     "text": [
      "288 AoErMi0xMzQ2ODkxOTM=.csv\n"
     ]
    },
    {
     "name": "stderr",
     "output_type": "stream",
     "text": [
      " 51%|█████     | 290/573 [17:16<08:17,  1.76s/it]"
     ]
    },
    {
     "name": "stdout",
     "output_type": "stream",
     "text": [
      "289 AoErMi0xMzUxMzkyMDE=.csv\n",
      "290 AoErMi0xMzU1ODkyMDI=.csv\n"
     ]
    },
    {
     "name": "stderr",
     "output_type": "stream",
     "text": [
      " 51%|█████     | 291/573 [17:17<07:28,  1.59s/it]"
     ]
    },
    {
     "name": "stdout",
     "output_type": "stream",
     "text": [
      "291 AoErMi0xMzYwMzkyMTQ=.csv\n"
     ]
    },
    {
     "name": "stderr",
     "output_type": "stream",
     "text": [
      " 51%|█████     | 292/573 [17:17<05:41,  1.21s/it]"
     ]
    },
    {
     "name": "stdout",
     "output_type": "stream",
     "text": [
      "292 AoErMi0xMzY0ODkyMTc=.csv\n"
     ]
    },
    {
     "name": "stderr",
     "output_type": "stream",
     "text": [
      " 51%|█████     | 293/573 [17:18<04:25,  1.06it/s]"
     ]
    },
    {
     "name": "stdout",
     "output_type": "stream",
     "text": [
      "293 AoErMi0xMzY5MzkyMjU=.csv\n"
     ]
    },
    {
     "name": "stderr",
     "output_type": "stream",
     "text": [
      " 51%|█████▏    | 294/573 [17:18<04:00,  1.16it/s]"
     ]
    },
    {
     "name": "stdout",
     "output_type": "stream",
     "text": [
      "294 AoErMi0xMzczODkyMjk=.csv\n"
     ]
    },
    {
     "name": "stderr",
     "output_type": "stream",
     "text": [
      " 51%|█████▏    | 295/573 [17:19<03:28,  1.34it/s]"
     ]
    },
    {
     "name": "stdout",
     "output_type": "stream",
     "text": [
      "295 AoErMi0xMzc4MzkyMzQ=.csv\n"
     ]
    },
    {
     "name": "stderr",
     "output_type": "stream",
     "text": [
      " 52%|█████▏    | 296/573 [17:19<02:49,  1.64it/s]"
     ]
    },
    {
     "name": "stdout",
     "output_type": "stream",
     "text": [
      "296 AoErMi0xMzgyODkyMzk=.csv\n"
     ]
    },
    {
     "name": "stderr",
     "output_type": "stream",
     "text": [
      " 52%|█████▏    | 297/573 [17:19<02:22,  1.94it/s]"
     ]
    },
    {
     "name": "stdout",
     "output_type": "stream",
     "text": [
      "297 AoEqMi0xMzg3MzkyNA==.csv\n"
     ]
    },
    {
     "name": "stderr",
     "output_type": "stream",
     "text": [
      " 52%|█████▏    | 298/573 [17:20<02:35,  1.77it/s]"
     ]
    },
    {
     "name": "stdout",
     "output_type": "stream",
     "text": [
      "298 AoErMi0xMzkxODkyNDU=.csv\n"
     ]
    },
    {
     "name": "stderr",
     "output_type": "stream",
     "text": [
      "C:\\Users\\ptmeg\\AppData\\Local\\Temp\\ipykernel_396\\3559771164.py:7: DtypeWarning: Columns (4) have mixed types. Specify dtype option on import or set low_memory=False.\n",
      "  tmp_df = pd.read_csv(data2_path+csv_file, sep=';', encoding='windows-1251')\n",
      "\n",
      " 52%|█████▏    | 300/573 [17:28<11:14,  2.47s/it]C:\\Users\\ptmeg\\AppData\\Local\\Temp\\ipykernel_396\\3559771164.py:7: DtypeWarning: Columns (4) have mixed types. Specify dtype option on import or set low_memory=False.\n",
      "  tmp_df = pd.read_csv(data2_path+csv_file, sep=';', encoding='windows-1251')\n",
      "\n",
      " 53%|█████▎    | 305/573 [17:46<15:20,  3.43s/it]C:\\Users\\ptmeg\\AppData\\Local\\Temp\\ipykernel_396\\3559771164.py:7: DtypeWarning: Columns (4) have mixed types. Specify dtype option on import or set low_memory=False.\n",
      "  tmp_df = pd.read_csv(data2_path+csv_file, sep=';', encoding='windows-1251')\n",
      "\n",
      " 53%|█████▎    | 306/573 [17:49<14:20,  3.22s/it]C:\\Users\\ptmeg\\AppData\\Local\\Temp\\ipykernel_396\\3559771164.py:7: DtypeWarning: Columns (4) have mixed types. Specify dtype option on import or set low_memory=False.\n",
      "  tmp_df = pd.read_csv(data2_path+csv_file, sep=';', encoding='windows-1251')\n",
      "\n",
      " 54%|█████▎    | 307/573 [17:53<15:24,  3.48s/it]C:\\Users\\ptmeg\\AppData\\Local\\Temp\\ipykernel_396\\3559771164.py:7: DtypeWarning: Columns (4) have mixed types. Specify dtype option on import or set low_memory=False.\n",
      "  tmp_df = pd.read_csv(data2_path+csv_file, sep=';', encoding='windows-1251')\n",
      "\n",
      " 54%|█████▍    | 309/573 [17:59<14:25,  3.28s/it]C:\\Users\\ptmeg\\AppData\\Local\\Temp\\ipykernel_396\\3559771164.py:7: DtypeWarning: Columns (4) have mixed types. Specify dtype option on import or set low_memory=False.\n",
      "  tmp_df = pd.read_csv(data2_path+csv_file, sep=';', encoding='windows-1251')\n",
      "\n",
      " 54%|█████▍    | 311/573 [18:06<15:17,  3.50s/it]C:\\Users\\ptmeg\\AppData\\Local\\Temp\\ipykernel_396\\3559771164.py:7: DtypeWarning: Columns (4) have mixed types. Specify dtype option on import or set low_memory=False.\n",
      "  tmp_df = pd.read_csv(data2_path+csv_file, sep=';', encoding='windows-1251')\n",
      "\n",
      " 54%|█████▍    | 312/573 [18:10<15:05,  3.47s/it]C:\\Users\\ptmeg\\AppData\\Local\\Temp\\ipykernel_396\\3559771164.py:7: DtypeWarning: Columns (4) have mixed types. Specify dtype option on import or set low_memory=False.\n",
      "  tmp_df = pd.read_csv(data2_path+csv_file, sep=';', encoding='windows-1251')\n",
      "\n",
      " 56%|█████▌    | 322/573 [18:50<13:08,  3.14s/it]"
     ]
    },
    {
     "name": "stdout",
     "output_type": "stream",
     "text": [
      "322 AoErMi0xNDk5ODkzODg=.csv\n"
     ]
    },
    {
     "name": "stderr",
     "output_type": "stream",
     "text": [
      " 56%|█████▋    | 323/573 [18:50<09:27,  2.27s/it]"
     ]
    },
    {
     "name": "stdout",
     "output_type": "stream",
     "text": [
      "323 AoEqMi0xNTA0Mzk0MA==.csv\n"
     ]
    },
    {
     "name": "stderr",
     "output_type": "stream",
     "text": [
      " 57%|█████▋    | 325/573 [18:55<09:17,  2.25s/it]"
     ]
    },
    {
     "name": "stdout",
     "output_type": "stream",
     "text": [
      "325 AoEqMi0xNTEzMzk1MA==.csv\n"
     ]
    },
    {
     "name": "stderr",
     "output_type": "stream",
     "text": [
      " 57%|█████▋    | 326/573 [18:57<08:30,  2.07s/it]"
     ]
    },
    {
     "name": "stdout",
     "output_type": "stream",
     "text": [
      "326 AoEqMi0xNTE3ODk2MQ==.csv\n"
     ]
    },
    {
     "name": "stderr",
     "output_type": "stream",
     "text": [
      " 58%|█████▊    | 330/573 [19:08<09:15,  2.29s/it]"
     ]
    },
    {
     "name": "stdout",
     "output_type": "stream",
     "text": [
      "330 AoErMi0xNTM1ODk2NjU=.csv\n"
     ]
    },
    {
     "name": "stderr",
     "output_type": "stream",
     "text": [
      " 60%|██████    | 345/573 [20:03<12:51,  3.39s/it]"
     ]
    },
    {
     "name": "stdout",
     "output_type": "stream",
     "text": [
      "345 AoErMi0xNjAzMzk5NDc=.csv\n"
     ]
    },
    {
     "name": "stderr",
     "output_type": "stream",
     "text": [
      " 61%|██████    | 349/573 [20:18<12:52,  3.45s/it]"
     ]
    },
    {
     "name": "stdout",
     "output_type": "stream",
     "text": [
      "349 AoErMi0xNjIxNDAwMjI=.csv\n"
     ]
    },
    {
     "name": "stderr",
     "output_type": "stream",
     "text": [
      " 62%|██████▏   | 358/573 [20:48<11:05,  3.09s/it]"
     ]
    },
    {
     "name": "stdout",
     "output_type": "stream",
     "text": [
      "358 AoErMi0xNjYxOTA2OTc=.csv\n"
     ]
    },
    {
     "name": "stderr",
     "output_type": "stream",
     "text": [
      " 63%|██████▎   | 362/573 [21:04<13:32,  3.85s/it]"
     ]
    },
    {
     "name": "stdout",
     "output_type": "stream",
     "text": [
      "362 AoErMi0xNjc5OTA5Mzk=.csv\n"
     ]
    },
    {
     "name": "stderr",
     "output_type": "stream",
     "text": [
      " 64%|██████▎   | 365/573 [21:14<11:46,  3.40s/it]"
     ]
    },
    {
     "name": "stdout",
     "output_type": "stream",
     "text": [
      "365 AoErMi0xNjkzNDA5OTY=.csv\n"
     ]
    },
    {
     "name": "stderr",
     "output_type": "stream",
     "text": [
      " 65%|██████▌   | 374/573 [21:45<10:27,  3.15s/it]"
     ]
    },
    {
     "name": "stdout",
     "output_type": "stream",
     "text": [
      "374 AoErMi0xNzMzOTE4Mzc=.csv\n"
     ]
    },
    {
     "name": "stderr",
     "output_type": "stream",
     "text": [
      " 66%|██████▌   | 377/573 [21:56<09:59,  3.06s/it]"
     ]
    },
    {
     "name": "stdout",
     "output_type": "stream",
     "text": [
      "377 AoErMi0xNzQ3NDE4NDk=.csv\n"
     ]
    },
    {
     "name": "stderr",
     "output_type": "stream",
     "text": [
      " 66%|██████▋   | 380/573 [22:07<11:37,  3.61s/it]"
     ]
    },
    {
     "name": "stdout",
     "output_type": "stream",
     "text": [
      "380 AoErMi0xNzYwOTIwNDc=.csv\n"
     ]
    },
    {
     "name": "stderr",
     "output_type": "stream",
     "text": [
      " 68%|██████▊   | 387/573 [22:32<09:19,  3.01s/it]"
     ]
    },
    {
     "name": "stdout",
     "output_type": "stream",
     "text": [
      "387 AoEqMi0xNzkyNDgxOA==.csv\n"
     ]
    },
    {
     "name": "stderr",
     "output_type": "stream",
     "text": [
      " 68%|██████▊   | 389/573 [22:38<09:09,  2.99s/it]"
     ]
    },
    {
     "name": "stdout",
     "output_type": "stream",
     "text": [
      "389 AoErMi0xODAxNDgzNTM=.csv\n"
     ]
    },
    {
     "name": "stderr",
     "output_type": "stream",
     "text": [
      " 68%|██████▊   | 390/573 [22:41<09:14,  3.03s/it]C:\\Users\\ptmeg\\AppData\\Local\\Temp\\ipykernel_396\\3559771164.py:7: DtypeWarning: Columns (4) have mixed types. Specify dtype option on import or set low_memory=False.\n",
      "  tmp_df = pd.read_csv(data2_path+csv_file, sep=';', encoding='windows-1251')\n",
      "\n",
      " 74%|███████▎  | 422/573 [23:29<03:54,  1.56s/it]C:\\Users\\ptmeg\\AppData\\Local\\Temp\\ipykernel_396\\3559771164.py:7: DtypeWarning: Columns (3) have mixed types. Specify dtype option on import or set low_memory=False.\n",
      "  tmp_df = pd.read_csv(data2_path+csv_file, sep=';', encoding='windows-1251')\n",
      "\n",
      " 74%|███████▍  | 425/573 [23:33<03:39,  1.48s/it]C:\\Users\\ptmeg\\AppData\\Local\\Temp\\ipykernel_396\\3559771164.py:7: DtypeWarning: Columns (4) have mixed types. Specify dtype option on import or set low_memory=False.\n",
      "  tmp_df = pd.read_csv(data2_path+csv_file, sep=';', encoding='windows-1251')\n",
      "\n",
      " 75%|███████▍  | 429/573 [23:39<03:36,  1.51s/it]C:\\Users\\ptmeg\\AppData\\Local\\Temp\\ipykernel_396\\3559771164.py:7: DtypeWarning: Columns (4) have mixed types. Specify dtype option on import or set low_memory=False.\n",
      "  tmp_df = pd.read_csv(data2_path+csv_file, sep=';', encoding='windows-1251')\n",
      "\n",
      " 76%|███████▌  | 434/573 [23:47<03:33,  1.54s/it]C:\\Users\\ptmeg\\AppData\\Local\\Temp\\ipykernel_396\\3559771164.py:7: DtypeWarning: Columns (3) have mixed types. Specify dtype option on import or set low_memory=False.\n",
      "  tmp_df = pd.read_csv(data2_path+csv_file, sep=';', encoding='windows-1251')\n",
      "\n",
      " 76%|███████▌  | 436/573 [23:49<03:18,  1.45s/it]C:\\Users\\ptmeg\\AppData\\Local\\Temp\\ipykernel_396\\3559771164.py:7: DtypeWarning: Columns (4) have mixed types. Specify dtype option on import or set low_memory=False.\n",
      "  tmp_df = pd.read_csv(data2_path+csv_file, sep=';', encoding='windows-1251')\n",
      "\n",
      " 77%|███████▋  | 439/573 [23:54<03:17,  1.48s/it]C:\\Users\\ptmeg\\AppData\\Local\\Temp\\ipykernel_396\\3559771164.py:7: DtypeWarning: Columns (4) have mixed types. Specify dtype option on import or set low_memory=False.\n",
      "  tmp_df = pd.read_csv(data2_path+csv_file, sep=';', encoding='windows-1251')\n",
      "\n",
      " 77%|███████▋  | 443/573 [24:02<03:57,  1.83s/it]C:\\Users\\ptmeg\\AppData\\Local\\Temp\\ipykernel_396\\3559771164.py:7: DtypeWarning: Columns (3) have mixed types. Specify dtype option on import or set low_memory=False.\n",
      "  tmp_df = pd.read_csv(data2_path+csv_file, sep=';', encoding='windows-1251')\n",
      "\n",
      " 77%|███████▋  | 444/573 [24:05<04:29,  2.09s/it]C:\\Users\\ptmeg\\AppData\\Local\\Temp\\ipykernel_396\\3559771164.py:7: DtypeWarning: Columns (4) have mixed types. Specify dtype option on import or set low_memory=False.\n",
      "  tmp_df = pd.read_csv(data2_path+csv_file, sep=';', encoding='windows-1251')\n",
      "\n",
      " 78%|███████▊  | 445/573 [24:07<04:23,  2.06s/it]C:\\Users\\ptmeg\\AppData\\Local\\Temp\\ipykernel_396\\3559771164.py:7: DtypeWarning: Columns (3) have mixed types. Specify dtype option on import or set low_memory=False.\n",
      "  tmp_df = pd.read_csv(data2_path+csv_file, sep=';', encoding='windows-1251')\n",
      "\n",
      " 78%|███████▊  | 448/573 [24:12<04:02,  1.94s/it]C:\\Users\\ptmeg\\AppData\\Local\\Temp\\ipykernel_396\\3559771164.py:7: DtypeWarning: Columns (4) have mixed types. Specify dtype option on import or set low_memory=False.\n",
      "  tmp_df = pd.read_csv(data2_path+csv_file, sep=';', encoding='windows-1251')\n",
      "\n",
      " 78%|███████▊  | 449/573 [24:16<04:58,  2.41s/it]C:\\Users\\ptmeg\\AppData\\Local\\Temp\\ipykernel_396\\3559771164.py:7: DtypeWarning: Columns (4) have mixed types. Specify dtype option on import or set low_memory=False.\n",
      "  tmp_df = pd.read_csv(data2_path+csv_file, sep=';', encoding='windows-1251')\n",
      "\n",
      " 79%|███████▊  | 450/573 [24:18<05:01,  2.46s/it]C:\\Users\\ptmeg\\AppData\\Local\\Temp\\ipykernel_396\\3559771164.py:7: DtypeWarning: Columns (4) have mixed types. Specify dtype option on import or set low_memory=False.\n",
      "  tmp_df = pd.read_csv(data2_path+csv_file, sep=';', encoding='windows-1251')\n",
      "\n",
      " 79%|███████▊  | 451/573 [24:21<04:59,  2.46s/it]C:\\Users\\ptmeg\\AppData\\Local\\Temp\\ipykernel_396\\3559771164.py:7: DtypeWarning: Columns (3) have mixed types. Specify dtype option on import or set low_memory=False.\n",
      "  tmp_df = pd.read_csv(data2_path+csv_file, sep=';', encoding='windows-1251')\n",
      "\n",
      " 79%|███████▉  | 452/573 [24:24<05:17,  2.63s/it]C:\\Users\\ptmeg\\AppData\\Local\\Temp\\ipykernel_396\\3559771164.py:7: DtypeWarning: Columns (4) have mixed types. Specify dtype option on import or set low_memory=False.\n",
      "  tmp_df = pd.read_csv(data2_path+csv_file, sep=';', encoding='windows-1251')\n",
      "\n",
      " 79%|███████▉  | 454/573 [24:29<05:13,  2.63s/it]C:\\Users\\ptmeg\\AppData\\Local\\Temp\\ipykernel_396\\3559771164.py:7: DtypeWarning: Columns (3) have mixed types. Specify dtype option on import or set low_memory=False.\n",
      "  tmp_df = pd.read_csv(data2_path+csv_file, sep=';', encoding='windows-1251')\n",
      "\n",
      " 79%|███████▉  | 455/573 [24:32<05:15,  2.68s/it]C:\\Users\\ptmeg\\AppData\\Local\\Temp\\ipykernel_396\\3559771164.py:7: DtypeWarning: Columns (3) have mixed types. Specify dtype option on import or set low_memory=False.\n",
      "  tmp_df = pd.read_csv(data2_path+csv_file, sep=';', encoding='windows-1251')\n",
      "\n",
      " 80%|███████▉  | 457/573 [24:36<04:37,  2.39s/it]"
     ]
    },
    {
     "name": "stdout",
     "output_type": "stream",
     "text": [
      "457 AoEqMi00NzU1NTczMw==.csv\n"
     ]
    },
    {
     "name": "stderr",
     "output_type": "stream",
     "text": [
      " 80%|████████  | 461/573 [24:45<04:06,  2.20s/it]C:\\Users\\ptmeg\\AppData\\Local\\Temp\\ipykernel_396\\3559771164.py:7: DtypeWarning: Columns (4) have mixed types. Specify dtype option on import or set low_memory=False.\n",
      "  tmp_df = pd.read_csv(data2_path+csv_file, sep=';', encoding='windows-1251')\n",
      "\n",
      " 81%|████████  | 462/573 [24:47<04:04,  2.20s/it]C:\\Users\\ptmeg\\AppData\\Local\\Temp\\ipykernel_396\\3559771164.py:7: DtypeWarning: Columns (4) have mixed types. Specify dtype option on import or set low_memory=False.\n",
      "  tmp_df = pd.read_csv(data2_path+csv_file, sep=';', encoding='windows-1251')\n",
      "\n",
      " 81%|████████  | 463/573 [24:49<03:53,  2.12s/it]C:\\Users\\ptmeg\\AppData\\Local\\Temp\\ipykernel_396\\3559771164.py:7: DtypeWarning: Columns (4) have mixed types. Specify dtype option on import or set low_memory=False.\n",
      "  tmp_df = pd.read_csv(data2_path+csv_file, sep=';', encoding='windows-1251')\n",
      "\n",
      " 82%|████████▏ | 468/573 [24:59<03:23,  1.94s/it]C:\\Users\\ptmeg\\AppData\\Local\\Temp\\ipykernel_396\\3559771164.py:7: DtypeWarning: Columns (4) have mixed types. Specify dtype option on import or set low_memory=False.\n",
      "  tmp_df = pd.read_csv(data2_path+csv_file, sep=';', encoding='windows-1251')\n",
      "\n",
      " 82%|████████▏ | 469/573 [25:00<03:14,  1.87s/it]C:\\Users\\ptmeg\\AppData\\Local\\Temp\\ipykernel_396\\3559771164.py:7: DtypeWarning: Columns (4) have mixed types. Specify dtype option on import or set low_memory=False.\n",
      "  tmp_df = pd.read_csv(data2_path+csv_file, sep=';', encoding='windows-1251')\n",
      "\n",
      " 82%|████████▏ | 470/573 [25:03<03:23,  1.97s/it]C:\\Users\\ptmeg\\AppData\\Local\\Temp\\ipykernel_396\\3559771164.py:7: DtypeWarning: Columns (3) have mixed types. Specify dtype option on import or set low_memory=False.\n",
      "  tmp_df = pd.read_csv(data2_path+csv_file, sep=';', encoding='windows-1251')\n",
      "\n",
      " 82%|████████▏ | 471/573 [25:05<03:18,  1.95s/it]C:\\Users\\ptmeg\\AppData\\Local\\Temp\\ipykernel_396\\3559771164.py:7: DtypeWarning: Columns (4) have mixed types. Specify dtype option on import or set low_memory=False.\n",
      "  tmp_df = pd.read_csv(data2_path+csv_file, sep=';', encoding='windows-1251')\n",
      "\n",
      " 83%|████████▎ | 473/573 [25:09<03:25,  2.06s/it]C:\\Users\\ptmeg\\AppData\\Local\\Temp\\ipykernel_396\\3559771164.py:7: DtypeWarning: Columns (3) have mixed types. Specify dtype option on import or set low_memory=False.\n",
      "  tmp_df = pd.read_csv(data2_path+csv_file, sep=';', encoding='windows-1251')\n",
      "\n",
      " 83%|████████▎ | 475/573 [25:15<04:12,  2.57s/it]C:\\Users\\ptmeg\\AppData\\Local\\Temp\\ipykernel_396\\3559771164.py:7: DtypeWarning: Columns (3) have mixed types. Specify dtype option on import or set low_memory=False.\n",
      "  tmp_df = pd.read_csv(data2_path+csv_file, sep=';', encoding='windows-1251')\n",
      "\n",
      " 83%|████████▎ | 476/573 [25:18<04:21,  2.70s/it]C:\\Users\\ptmeg\\AppData\\Local\\Temp\\ipykernel_396\\3559771164.py:7: DtypeWarning: Columns (4) have mixed types. Specify dtype option on import or set low_memory=False.\n",
      "  tmp_df = pd.read_csv(data2_path+csv_file, sep=';', encoding='windows-1251')\n",
      "\n",
      " 83%|████████▎ | 477/573 [25:21<04:21,  2.73s/it]C:\\Users\\ptmeg\\AppData\\Local\\Temp\\ipykernel_396\\3559771164.py:7: DtypeWarning: Columns (4) have mixed types. Specify dtype option on import or set low_memory=False.\n",
      "  tmp_df = pd.read_csv(data2_path+csv_file, sep=';', encoding='windows-1251')\n",
      "\n",
      " 83%|████████▎ | 478/573 [25:24<04:33,  2.88s/it]C:\\Users\\ptmeg\\AppData\\Local\\Temp\\ipykernel_396\\3559771164.py:7: DtypeWarning: Columns (4) have mixed types. Specify dtype option on import or set low_memory=False.\n",
      "  tmp_df = pd.read_csv(data2_path+csv_file, sep=';', encoding='windows-1251')\n",
      "\n",
      " 84%|████████▎ | 479/573 [25:27<04:33,  2.91s/it]C:\\Users\\ptmeg\\AppData\\Local\\Temp\\ipykernel_396\\3559771164.py:7: DtypeWarning: Columns (4) have mixed types. Specify dtype option on import or set low_memory=False.\n",
      "  tmp_df = pd.read_csv(data2_path+csv_file, sep=';', encoding='windows-1251')\n",
      "\n",
      " 84%|████████▍ | 480/573 [25:30<04:22,  2.82s/it]C:\\Users\\ptmeg\\AppData\\Local\\Temp\\ipykernel_396\\3559771164.py:7: DtypeWarning: Columns (4) have mixed types. Specify dtype option on import or set low_memory=False.\n",
      "  tmp_df = pd.read_csv(data2_path+csv_file, sep=';', encoding='windows-1251')\n",
      "\n",
      " 84%|████████▍ | 481/573 [25:32<04:18,  2.81s/it]C:\\Users\\ptmeg\\AppData\\Local\\Temp\\ipykernel_396\\3559771164.py:7: DtypeWarning: Columns (4) have mixed types. Specify dtype option on import or set low_memory=False.\n",
      "  tmp_df = pd.read_csv(data2_path+csv_file, sep=';', encoding='windows-1251')\n",
      "\n",
      " 84%|████████▍ | 482/573 [25:35<04:02,  2.67s/it]C:\\Users\\ptmeg\\AppData\\Local\\Temp\\ipykernel_396\\3559771164.py:7: DtypeWarning: Columns (4) have mixed types. Specify dtype option on import or set low_memory=False.\n",
      "  tmp_df = pd.read_csv(data2_path+csv_file, sep=';', encoding='windows-1251')\n",
      "\n",
      " 84%|████████▍ | 483/573 [25:38<04:02,  2.69s/it]C:\\Users\\ptmeg\\AppData\\Local\\Temp\\ipykernel_396\\3559771164.py:7: DtypeWarning: Columns (4) have mixed types. Specify dtype option on import or set low_memory=False.\n",
      "  tmp_df = pd.read_csv(data2_path+csv_file, sep=';', encoding='windows-1251')\n",
      "\n",
      " 84%|████████▍ | 484/573 [25:41<04:11,  2.83s/it]C:\\Users\\ptmeg\\AppData\\Local\\Temp\\ipykernel_396\\3559771164.py:7: DtypeWarning: Columns (4) have mixed types. Specify dtype option on import or set low_memory=False.\n",
      "  tmp_df = pd.read_csv(data2_path+csv_file, sep=';', encoding='windows-1251')\n",
      "\n",
      " 85%|████████▍ | 485/573 [25:43<04:05,  2.79s/it]C:\\Users\\ptmeg\\AppData\\Local\\Temp\\ipykernel_396\\3559771164.py:7: DtypeWarning: Columns (4) have mixed types. Specify dtype option on import or set low_memory=False.\n",
      "  tmp_df = pd.read_csv(data2_path+csv_file, sep=';', encoding='windows-1251')\n",
      "\n",
      " 85%|████████▍ | 486/573 [25:46<04:01,  2.78s/it]C:\\Users\\ptmeg\\AppData\\Local\\Temp\\ipykernel_396\\3559771164.py:7: DtypeWarning: Columns (4) have mixed types. Specify dtype option on import or set low_memory=False.\n",
      "  tmp_df = pd.read_csv(data2_path+csv_file, sep=';', encoding='windows-1251')\n",
      "\n",
      " 85%|████████▍ | 487/573 [25:49<04:07,  2.88s/it]C:\\Users\\ptmeg\\AppData\\Local\\Temp\\ipykernel_396\\3559771164.py:7: DtypeWarning: Columns (4) have mixed types. Specify dtype option on import or set low_memory=False.\n",
      "  tmp_df = pd.read_csv(data2_path+csv_file, sep=';', encoding='windows-1251')\n",
      "\n",
      " 85%|████████▌ | 488/573 [25:52<03:53,  2.75s/it]C:\\Users\\ptmeg\\AppData\\Local\\Temp\\ipykernel_396\\3559771164.py:7: DtypeWarning: Columns (4) have mixed types. Specify dtype option on import or set low_memory=False.\n",
      "  tmp_df = pd.read_csv(data2_path+csv_file, sep=';', encoding='windows-1251')\n",
      "\n",
      " 85%|████████▌ | 489/573 [25:55<04:06,  2.94s/it]C:\\Users\\ptmeg\\AppData\\Local\\Temp\\ipykernel_396\\3559771164.py:7: DtypeWarning: Columns (4) have mixed types. Specify dtype option on import or set low_memory=False.\n",
      "  tmp_df = pd.read_csv(data2_path+csv_file, sep=';', encoding='windows-1251')\n",
      "\n",
      " 86%|████████▌ | 490/573 [25:58<03:51,  2.79s/it]C:\\Users\\ptmeg\\AppData\\Local\\Temp\\ipykernel_396\\3559771164.py:7: DtypeWarning: Columns (3) have mixed types. Specify dtype option on import or set low_memory=False.\n",
      "  tmp_df = pd.read_csv(data2_path+csv_file, sep=';', encoding='windows-1251')\n",
      "\n",
      " 86%|████████▌ | 491/573 [26:00<03:42,  2.72s/it]C:\\Users\\ptmeg\\AppData\\Local\\Temp\\ipykernel_396\\3559771164.py:7: DtypeWarning: Columns (4) have mixed types. Specify dtype option on import or set low_memory=False.\n",
      "  tmp_df = pd.read_csv(data2_path+csv_file, sep=';', encoding='windows-1251')\n",
      "\n",
      " 86%|████████▌ | 492/573 [26:02<03:32,  2.62s/it]C:\\Users\\ptmeg\\AppData\\Local\\Temp\\ipykernel_396\\3559771164.py:7: DtypeWarning: Columns (4) have mixed types. Specify dtype option on import or set low_memory=False.\n",
      "  tmp_df = pd.read_csv(data2_path+csv_file, sep=';', encoding='windows-1251')\n",
      "\n",
      " 86%|████████▌ | 493/573 [26:05<03:36,  2.70s/it]C:\\Users\\ptmeg\\AppData\\Local\\Temp\\ipykernel_396\\3559771164.py:7: DtypeWarning: Columns (4) have mixed types. Specify dtype option on import or set low_memory=False.\n",
      "  tmp_df = pd.read_csv(data2_path+csv_file, sep=';', encoding='windows-1251')\n",
      "\n",
      " 86%|████████▌ | 494/573 [26:08<03:37,  2.75s/it]C:\\Users\\ptmeg\\AppData\\Local\\Temp\\ipykernel_396\\3559771164.py:7: DtypeWarning: Columns (4) have mixed types. Specify dtype option on import or set low_memory=False.\n",
      "  tmp_df = pd.read_csv(data2_path+csv_file, sep=';', encoding='windows-1251')\n",
      "\n",
      " 86%|████████▋ | 495/573 [26:11<03:33,  2.74s/it]C:\\Users\\ptmeg\\AppData\\Local\\Temp\\ipykernel_396\\3559771164.py:7: DtypeWarning: Columns (4) have mixed types. Specify dtype option on import or set low_memory=False.\n",
      "  tmp_df = pd.read_csv(data2_path+csv_file, sep=';', encoding='windows-1251')\n",
      "\n",
      " 87%|████████▋ | 496/573 [26:14<03:37,  2.82s/it]C:\\Users\\ptmeg\\AppData\\Local\\Temp\\ipykernel_396\\3559771164.py:7: DtypeWarning: Columns (3) have mixed types. Specify dtype option on import or set low_memory=False.\n",
      "  tmp_df = pd.read_csv(data2_path+csv_file, sep=';', encoding='windows-1251')\n",
      "\n",
      " 87%|████████▋ | 497/573 [26:34<10:04,  7.96s/it]C:\\Users\\ptmeg\\AppData\\Local\\Temp\\ipykernel_396\\3559771164.py:7: DtypeWarning: Columns (4) have mixed types. Specify dtype option on import or set low_memory=False.\n",
      "  tmp_df = pd.read_csv(data2_path+csv_file, sep=';', encoding='windows-1251')\n",
      "\n",
      " 87%|████████▋ | 498/573 [26:37<08:11,  6.55s/it]C:\\Users\\ptmeg\\AppData\\Local\\Temp\\ipykernel_396\\3559771164.py:7: DtypeWarning: Columns (4) have mixed types. Specify dtype option on import or set low_memory=False.\n",
      "  tmp_df = pd.read_csv(data2_path+csv_file, sep=';', encoding='windows-1251')\n",
      "\n",
      " 87%|████████▋ | 500/573 [26:46<06:52,  5.66s/it]C:\\Users\\ptmeg\\AppData\\Local\\Temp\\ipykernel_396\\3559771164.py:7: DtypeWarning: Columns (4) have mixed types. Specify dtype option on import or set low_memory=False.\n",
      "  tmp_df = pd.read_csv(data2_path+csv_file, sep=';', encoding='windows-1251')\n",
      "\n",
      " 87%|████████▋ | 501/573 [26:50<05:57,  4.97s/it]C:\\Users\\ptmeg\\AppData\\Local\\Temp\\ipykernel_396\\3559771164.py:7: DtypeWarning: Columns (4) have mixed types. Specify dtype option on import or set low_memory=False.\n",
      "  tmp_df = pd.read_csv(data2_path+csv_file, sep=';', encoding='windows-1251')\n",
      "\n",
      " 88%|████████▊ | 502/573 [26:53<05:12,  4.40s/it]C:\\Users\\ptmeg\\AppData\\Local\\Temp\\ipykernel_396\\3559771164.py:7: DtypeWarning: Columns (4) have mixed types. Specify dtype option on import or set low_memory=False.\n",
      "  tmp_df = pd.read_csv(data2_path+csv_file, sep=';', encoding='windows-1251')\n",
      "\n",
      " 88%|████████▊ | 503/573 [26:55<04:29,  3.85s/it]C:\\Users\\ptmeg\\AppData\\Local\\Temp\\ipykernel_396\\3559771164.py:7: DtypeWarning: Columns (4) have mixed types. Specify dtype option on import or set low_memory=False.\n",
      "  tmp_df = pd.read_csv(data2_path+csv_file, sep=';', encoding='windows-1251')\n",
      "\n",
      " 88%|████████▊ | 504/573 [26:58<03:58,  3.45s/it]C:\\Users\\ptmeg\\AppData\\Local\\Temp\\ipykernel_396\\3559771164.py:7: DtypeWarning: Columns (4) have mixed types. Specify dtype option on import or set low_memory=False.\n",
      "  tmp_df = pd.read_csv(data2_path+csv_file, sep=';', encoding='windows-1251')\n",
      "\n",
      " 88%|████████▊ | 505/573 [27:00<03:27,  3.05s/it]C:\\Users\\ptmeg\\AppData\\Local\\Temp\\ipykernel_396\\3559771164.py:7: DtypeWarning: Columns (4) have mixed types. Specify dtype option on import or set low_memory=False.\n",
      "  tmp_df = pd.read_csv(data2_path+csv_file, sep=';', encoding='windows-1251')\n",
      "\n",
      " 88%|████████▊ | 506/573 [27:02<03:11,  2.86s/it]C:\\Users\\ptmeg\\AppData\\Local\\Temp\\ipykernel_396\\3559771164.py:7: DtypeWarning: Columns (4) have mixed types. Specify dtype option on import or set low_memory=False.\n",
      "  tmp_df = pd.read_csv(data2_path+csv_file, sep=';', encoding='windows-1251')\n",
      "\n",
      " 88%|████████▊ | 507/573 [27:04<02:52,  2.61s/it]C:\\Users\\ptmeg\\AppData\\Local\\Temp\\ipykernel_396\\3559771164.py:7: DtypeWarning: Columns (4) have mixed types. Specify dtype option on import or set low_memory=False.\n",
      "  tmp_df = pd.read_csv(data2_path+csv_file, sep=';', encoding='windows-1251')\n",
      "\n",
      " 89%|████████▉ | 509/573 [27:10<02:45,  2.59s/it]C:\\Users\\ptmeg\\AppData\\Local\\Temp\\ipykernel_396\\3559771164.py:7: DtypeWarning: Columns (4) have mixed types. Specify dtype option on import or set low_memory=False.\n",
      "  tmp_df = pd.read_csv(data2_path+csv_file, sep=';', encoding='windows-1251')\n",
      "\n",
      " 89%|████████▉ | 512/573 [27:19<02:51,  2.81s/it]C:\\Users\\ptmeg\\AppData\\Local\\Temp\\ipykernel_396\\3559771164.py:7: DtypeWarning: Columns (4) have mixed types. Specify dtype option on import or set low_memory=False.\n",
      "  tmp_df = pd.read_csv(data2_path+csv_file, sep=';', encoding='windows-1251')\n",
      "\n",
      " 90%|████████▉ | 513/573 [27:21<02:39,  2.65s/it]C:\\Users\\ptmeg\\AppData\\Local\\Temp\\ipykernel_396\\3559771164.py:7: DtypeWarning: Columns (4) have mixed types. Specify dtype option on import or set low_memory=False.\n",
      "  tmp_df = pd.read_csv(data2_path+csv_file, sep=';', encoding='windows-1251')\n",
      "\n",
      " 90%|████████▉ | 514/573 [27:24<02:31,  2.57s/it]C:\\Users\\ptmeg\\AppData\\Local\\Temp\\ipykernel_396\\3559771164.py:7: DtypeWarning: Columns (4) have mixed types. Specify dtype option on import or set low_memory=False.\n",
      "  tmp_df = pd.read_csv(data2_path+csv_file, sep=';', encoding='windows-1251')\n",
      "\n",
      " 90%|████████▉ | 515/573 [27:26<02:20,  2.42s/it]C:\\Users\\ptmeg\\AppData\\Local\\Temp\\ipykernel_396\\3559771164.py:7: DtypeWarning: Columns (4) have mixed types. Specify dtype option on import or set low_memory=False.\n",
      "  tmp_df = pd.read_csv(data2_path+csv_file, sep=';', encoding='windows-1251')\n",
      "\n",
      " 90%|█████████ | 516/573 [27:28<02:11,  2.30s/it]C:\\Users\\ptmeg\\AppData\\Local\\Temp\\ipykernel_396\\3559771164.py:7: DtypeWarning: Columns (4) have mixed types. Specify dtype option on import or set low_memory=False.\n",
      "  tmp_df = pd.read_csv(data2_path+csv_file, sep=';', encoding='windows-1251')\n",
      "\n",
      " 90%|█████████ | 517/573 [27:30<02:04,  2.22s/it]C:\\Users\\ptmeg\\AppData\\Local\\Temp\\ipykernel_396\\3559771164.py:7: DtypeWarning: Columns (4) have mixed types. Specify dtype option on import or set low_memory=False.\n",
      "  tmp_df = pd.read_csv(data2_path+csv_file, sep=';', encoding='windows-1251')\n",
      "\n",
      " 90%|█████████ | 518/573 [27:32<02:00,  2.19s/it]C:\\Users\\ptmeg\\AppData\\Local\\Temp\\ipykernel_396\\3559771164.py:7: DtypeWarning: Columns (4) have mixed types. Specify dtype option on import or set low_memory=False.\n",
      "  tmp_df = pd.read_csv(data2_path+csv_file, sep=';', encoding='windows-1251')\n",
      "\n",
      " 91%|█████████ | 519/573 [27:34<01:54,  2.13s/it]C:\\Users\\ptmeg\\AppData\\Local\\Temp\\ipykernel_396\\3559771164.py:7: DtypeWarning: Columns (4) have mixed types. Specify dtype option on import or set low_memory=False.\n",
      "  tmp_df = pd.read_csv(data2_path+csv_file, sep=';', encoding='windows-1251')\n",
      "\n",
      " 91%|█████████ | 520/573 [27:36<01:52,  2.13s/it]C:\\Users\\ptmeg\\AppData\\Local\\Temp\\ipykernel_396\\3559771164.py:7: DtypeWarning: Columns (4) have mixed types. Specify dtype option on import or set low_memory=False.\n",
      "  tmp_df = pd.read_csv(data2_path+csv_file, sep=';', encoding='windows-1251')\n",
      "\n",
      " 91%|█████████ | 521/573 [27:38<01:49,  2.11s/it]C:\\Users\\ptmeg\\AppData\\Local\\Temp\\ipykernel_396\\3559771164.py:7: DtypeWarning: Columns (4) have mixed types. Specify dtype option on import or set low_memory=False.\n",
      "  tmp_df = pd.read_csv(data2_path+csv_file, sep=';', encoding='windows-1251')\n",
      "\n",
      " 91%|█████████ | 522/573 [27:40<01:45,  2.07s/it]C:\\Users\\ptmeg\\AppData\\Local\\Temp\\ipykernel_396\\3559771164.py:7: DtypeWarning: Columns (4) have mixed types. Specify dtype option on import or set low_memory=False.\n",
      "  tmp_df = pd.read_csv(data2_path+csv_file, sep=';', encoding='windows-1251')\n",
      "\n",
      " 91%|█████████▏| 523/573 [27:42<01:42,  2.06s/it]C:\\Users\\ptmeg\\AppData\\Local\\Temp\\ipykernel_396\\3559771164.py:7: DtypeWarning: Columns (4) have mixed types. Specify dtype option on import or set low_memory=False.\n",
      "  tmp_df = pd.read_csv(data2_path+csv_file, sep=';', encoding='windows-1251')\n",
      "\n",
      " 92%|█████████▏| 526/573 [27:49<01:36,  2.06s/it]C:\\Users\\ptmeg\\AppData\\Local\\Temp\\ipykernel_396\\3559771164.py:7: DtypeWarning: Columns (4) have mixed types. Specify dtype option on import or set low_memory=False.\n",
      "  tmp_df = pd.read_csv(data2_path+csv_file, sep=';', encoding='windows-1251')\n",
      "\n",
      " 92%|█████████▏| 527/573 [27:50<01:32,  2.00s/it]C:\\Users\\ptmeg\\AppData\\Local\\Temp\\ipykernel_396\\3559771164.py:7: DtypeWarning: Columns (4) have mixed types. Specify dtype option on import or set low_memory=False.\n",
      "  tmp_df = pd.read_csv(data2_path+csv_file, sep=';', encoding='windows-1251')\n",
      "\n",
      " 92%|█████████▏| 529/573 [27:55<01:28,  2.02s/it]C:\\Users\\ptmeg\\AppData\\Local\\Temp\\ipykernel_396\\3559771164.py:7: DtypeWarning: Columns (4) have mixed types. Specify dtype option on import or set low_memory=False.\n",
      "  tmp_df = pd.read_csv(data2_path+csv_file, sep=';', encoding='windows-1251')\n",
      "\n",
      " 92%|█████████▏| 530/573 [27:57<01:27,  2.03s/it]C:\\Users\\ptmeg\\AppData\\Local\\Temp\\ipykernel_396\\3559771164.py:7: DtypeWarning: Columns (4) have mixed types. Specify dtype option on import or set low_memory=False.\n",
      "  tmp_df = pd.read_csv(data2_path+csv_file, sep=';', encoding='windows-1251')\n",
      "\n",
      " 93%|█████████▎| 531/573 [27:58<01:23,  1.98s/it]C:\\Users\\ptmeg\\AppData\\Local\\Temp\\ipykernel_396\\3559771164.py:7: DtypeWarning: Columns (4) have mixed types. Specify dtype option on import or set low_memory=False.\n",
      "  tmp_df = pd.read_csv(data2_path+csv_file, sep=';', encoding='windows-1251')\n",
      "\n",
      " 93%|█████████▎| 533/573 [28:03<01:24,  2.11s/it]C:\\Users\\ptmeg\\AppData\\Local\\Temp\\ipykernel_396\\3559771164.py:7: DtypeWarning: Columns (4) have mixed types. Specify dtype option on import or set low_memory=False.\n",
      "  tmp_df = pd.read_csv(data2_path+csv_file, sep=';', encoding='windows-1251')\n",
      "\n",
      " 93%|█████████▎| 534/573 [28:05<01:25,  2.19s/it]C:\\Users\\ptmeg\\AppData\\Local\\Temp\\ipykernel_396\\3559771164.py:7: DtypeWarning: Columns (4) have mixed types. Specify dtype option on import or set low_memory=False.\n",
      "  tmp_df = pd.read_csv(data2_path+csv_file, sep=';', encoding='windows-1251')\n",
      "\n",
      " 93%|█████████▎| 535/573 [28:08<01:25,  2.25s/it]C:\\Users\\ptmeg\\AppData\\Local\\Temp\\ipykernel_396\\3559771164.py:7: DtypeWarning: Columns (4) have mixed types. Specify dtype option on import or set low_memory=False.\n",
      "  tmp_df = pd.read_csv(data2_path+csv_file, sep=';', encoding='windows-1251')\n",
      "\n",
      " 94%|█████████▎| 536/573 [28:10<01:23,  2.25s/it]C:\\Users\\ptmeg\\AppData\\Local\\Temp\\ipykernel_396\\3559771164.py:7: DtypeWarning: Columns (4) have mixed types. Specify dtype option on import or set low_memory=False.\n",
      "  tmp_df = pd.read_csv(data2_path+csv_file, sep=';', encoding='windows-1251')\n",
      "\n",
      " 94%|█████████▎| 537/573 [28:12<01:18,  2.19s/it]C:\\Users\\ptmeg\\AppData\\Local\\Temp\\ipykernel_396\\3559771164.py:7: DtypeWarning: Columns (4) have mixed types. Specify dtype option on import or set low_memory=False.\n",
      "  tmp_df = pd.read_csv(data2_path+csv_file, sep=';', encoding='windows-1251')\n",
      "\n",
      " 94%|█████████▍| 538/573 [28:14<01:16,  2.19s/it]C:\\Users\\ptmeg\\AppData\\Local\\Temp\\ipykernel_396\\3559771164.py:7: DtypeWarning: Columns (4) have mixed types. Specify dtype option on import or set low_memory=False.\n",
      "  tmp_df = pd.read_csv(data2_path+csv_file, sep=';', encoding='windows-1251')\n",
      "\n",
      " 94%|█████████▍| 539/573 [28:16<01:16,  2.24s/it]C:\\Users\\ptmeg\\AppData\\Local\\Temp\\ipykernel_396\\3559771164.py:7: DtypeWarning: Columns (4) have mixed types. Specify dtype option on import or set low_memory=False.\n",
      "  tmp_df = pd.read_csv(data2_path+csv_file, sep=';', encoding='windows-1251')\n",
      "\n",
      " 94%|█████████▍| 540/573 [28:19<01:19,  2.40s/it]C:\\Users\\ptmeg\\AppData\\Local\\Temp\\ipykernel_396\\3559771164.py:7: DtypeWarning: Columns (4) have mixed types. Specify dtype option on import or set low_memory=False.\n",
      "  tmp_df = pd.read_csv(data2_path+csv_file, sep=';', encoding='windows-1251')\n",
      "\n",
      " 94%|█████████▍| 541/573 [28:22<01:15,  2.37s/it]C:\\Users\\ptmeg\\AppData\\Local\\Temp\\ipykernel_396\\3559771164.py:7: DtypeWarning: Columns (4) have mixed types. Specify dtype option on import or set low_memory=False.\n",
      "  tmp_df = pd.read_csv(data2_path+csv_file, sep=';', encoding='windows-1251')\n",
      "\n",
      " 95%|█████████▍| 542/573 [28:24<01:17,  2.50s/it]C:\\Users\\ptmeg\\AppData\\Local\\Temp\\ipykernel_396\\3559771164.py:7: DtypeWarning: Columns (4) have mixed types. Specify dtype option on import or set low_memory=False.\n",
      "  tmp_df = pd.read_csv(data2_path+csv_file, sep=';', encoding='windows-1251')\n",
      "\n",
      " 95%|█████████▌| 546/573 [28:34<01:05,  2.43s/it]C:\\Users\\ptmeg\\AppData\\Local\\Temp\\ipykernel_396\\3559771164.py:7: DtypeWarning: Columns (4) have mixed types. Specify dtype option on import or set low_memory=False.\n",
      "  tmp_df = pd.read_csv(data2_path+csv_file, sep=';', encoding='windows-1251')\n",
      "\n",
      " 97%|█████████▋| 554/573 [28:53<00:43,  2.31s/it]C:\\Users\\ptmeg\\AppData\\Local\\Temp\\ipykernel_396\\3559771164.py:7: DtypeWarning: Columns (4) have mixed types. Specify dtype option on import or set low_memory=False.\n",
      "  tmp_df = pd.read_csv(data2_path+csv_file, sep=';', encoding='windows-1251')\n",
      "\n",
      " 97%|█████████▋| 556/573 [28:58<00:39,  2.30s/it]C:\\Users\\ptmeg\\AppData\\Local\\Temp\\ipykernel_396\\3559771164.py:7: DtypeWarning: Columns (4) have mixed types. Specify dtype option on import or set low_memory=False.\n",
      "  tmp_df = pd.read_csv(data2_path+csv_file, sep=';', encoding='windows-1251')\n",
      "\n",
      " 97%|█████████▋| 558/573 [29:02<00:34,  2.32s/it]C:\\Users\\ptmeg\\AppData\\Local\\Temp\\ipykernel_396\\3559771164.py:7: DtypeWarning: Columns (4) have mixed types. Specify dtype option on import or set low_memory=False.\n",
      "  tmp_df = pd.read_csv(data2_path+csv_file, sep=';', encoding='windows-1251')\n",
      "\n",
      " 98%|█████████▊| 562/573 [29:12<00:25,  2.31s/it]C:\\Users\\ptmeg\\AppData\\Local\\Temp\\ipykernel_396\\3559771164.py:7: DtypeWarning: Columns (4) have mixed types. Specify dtype option on import or set low_memory=False.\n",
      "  tmp_df = pd.read_csv(data2_path+csv_file, sep=';', encoding='windows-1251')\n",
      "\n",
      "100%|██████████| 573/573 [29:37<00:00,  3.10s/it]\n"
     ]
    }
   ],
   "source": [
    "answer_df = pd.read_csv('filled_answer.csv', index_col=0)\n",
    "data2_path = 'Дата-сет для задачи №2\\\\'\n",
    "file_names = os.listdir('Дата-сет для задачи №1\\Разметка')\n",
    "data2_full = []\n",
    "for csv_file in tqdm(os.listdir(data2_path)):\n",
    "    try:\n",
    "        tmp_df = pd.read_csv(data2_path+csv_file, sep=';', encoding='windows-1251')       \n",
    "        data2_full.append(tmp_df[tmp_df['Наименование_файла_с_описанием'].isin(file_names)])\n",
    "    except:\n",
    "        print(csv_file)\n",
    "\n",
    "data2_full=pd.concat(data2_full)"
   ]
  },
  {
   "cell_type": "code",
   "execution_count": 18,
   "metadata": {},
   "outputs": [],
   "source": [
    "data2_full.to_csv('data2_full.csv')"
   ]
  },
  {
   "cell_type": "code",
   "execution_count": 1,
   "metadata": {},
   "outputs": [
    {
     "ename": "NameError",
     "evalue": "name 'data2_full' is not defined",
     "output_type": "error",
     "traceback": [
      "\u001b[1;31m---------------------------------------------------------------------------\u001b[0m",
      "\u001b[1;31mNameError\u001b[0m                                 Traceback (most recent call last)",
      "\u001b[1;32mc:\\Users\\ptmeg\\Desktop\\cистема_анализа_российского_рынка_средств_измерений\\Система анализа российского рынка средств измерений\\experiments.ipynb Cell 25'\u001b[0m in \u001b[0;36m<cell line: 1>\u001b[1;34m()\u001b[0m\n\u001b[1;32m----> <a href='vscode-notebook-cell:/c%3A/Users/ptmeg/Desktop/c%D0%B8%D1%81%D1%82%D0%B5%D0%BC%D0%B0_%D0%B0%D0%BD%D0%B0%D0%BB%D0%B8%D0%B7%D0%B0_%D1%80%D0%BE%D1%81%D1%81%D0%B8%D0%B9%D1%81%D0%BA%D0%BE%D0%B3%D0%BE_%D1%80%D1%8B%D0%BD%D0%BA%D0%B0_%D1%81%D1%80%D0%B5%D0%B4%D1%81%D1%82%D0%B2_%D0%B8%D0%B7%D0%BC%D0%B5%D1%80%D0%B5%D0%BD%D0%B8%D0%B9/%D0%A1%D0%B8%D1%81%D1%82%D0%B5%D0%BC%D0%B0%20%D0%B0%D0%BD%D0%B0%D0%BB%D0%B8%D0%B7%D0%B0%20%D1%80%D0%BE%D1%81%D1%81%D0%B8%D0%B9%D1%81%D0%BA%D0%BE%D0%B3%D0%BE%20%D1%80%D1%8B%D0%BD%D0%BA%D0%B0%20%D1%81%D1%80%D0%B5%D0%B4%D1%81%D1%82%D0%B2%20%D0%B8%D0%B7%D0%BC%D0%B5%D1%80%D0%B5%D0%BD%D0%B8%D0%B9/experiments.ipynb#ch0000024?line=0'>1</a>\u001b[0m data2_full\u001b[39m.\u001b[39mhead()\n",
      "\u001b[1;31mNameError\u001b[0m: name 'data2_full' is not defined"
     ]
    }
   ],
   "source": [
    "data2_full.head()"
   ]
  },
  {
   "cell_type": "code",
   "execution_count": null,
   "metadata": {},
   "outputs": [],
   "source": [
    "answer_df = pd.read_csv('filled_answer.csv', index_col=0)\n",
    "data2_path = 'Дата-сет для задачи №2\\\\'\n",
    "file_names = os.listdir('Дата-сет для задачи №1\\Разметка')\n",
    "data2_full = []\n",
    "for csv_file in tqdm(os.listdir(data2_path)):\n",
    "    try:\n",
    "        tmp_df = pd.read_csv(data2_path+csv_file, sep=';', encoding='windows-1251')       \n",
    "        data2_full.append(tmp_df[tmp_df['Наименование_файла_с_описанием'].isin(file_names)])\n",
    "    except:\n",
    "        print(csv_file)\n",
    "\n",
    "data2_full=pd.concat(data2_full)"
   ]
  },
  {
   "cell_type": "code",
   "execution_count": 23,
   "metadata": {},
   "outputs": [
    {
     "name": "stderr",
     "output_type": "stream",
     "text": [
      "  0%|          | 2/573 [00:05<28:22,  2.98s/it]"
     ]
    },
    {
     "name": "stdout",
     "output_type": "stream",
     "text": [
      "k   1\n"
     ]
    },
    {
     "name": "stderr",
     "output_type": "stream",
     "text": [
      "  1%|          | 3/573 [00:08<28:04,  2.96s/it]"
     ]
    },
    {
     "name": "stdout",
     "output_type": "stream",
     "text": [
      "k   2\n"
     ]
    },
    {
     "name": "stderr",
     "output_type": "stream",
     "text": [
      "  1%|          | 4/573 [00:11<27:59,  2.95s/it]"
     ]
    },
    {
     "name": "stdout",
     "output_type": "stream",
     "text": [
      "k   3\n"
     ]
    },
    {
     "name": "stderr",
     "output_type": "stream",
     "text": [
      "  1%|          | 5/573 [00:15<28:38,  3.03s/it]"
     ]
    },
    {
     "name": "stdout",
     "output_type": "stream",
     "text": [
      "k   4\n"
     ]
    },
    {
     "name": "stderr",
     "output_type": "stream",
     "text": [
      "  1%|          | 6/573 [00:18<29:10,  3.09s/it]"
     ]
    },
    {
     "name": "stdout",
     "output_type": "stream",
     "text": [
      "k   5\n"
     ]
    },
    {
     "name": "stderr",
     "output_type": "stream",
     "text": [
      "  1%|          | 7/573 [00:21<28:45,  3.05s/it]"
     ]
    },
    {
     "name": "stdout",
     "output_type": "stream",
     "text": [
      "k   6\n"
     ]
    },
    {
     "name": "stderr",
     "output_type": "stream",
     "text": [
      "  2%|▏         | 9/573 [00:26<27:50,  2.96s/it]"
     ]
    },
    {
     "name": "stdout",
     "output_type": "stream",
     "text": [
      "k   7\n"
     ]
    },
    {
     "name": "stderr",
     "output_type": "stream",
     "text": [
      "  2%|▏         | 10/573 [00:29<27:28,  2.93s/it]"
     ]
    },
    {
     "name": "stdout",
     "output_type": "stream",
     "text": [
      "k   8\n"
     ]
    },
    {
     "name": "stderr",
     "output_type": "stream",
     "text": [
      "  2%|▏         | 11/573 [00:32<27:31,  2.94s/it]"
     ]
    },
    {
     "name": "stdout",
     "output_type": "stream",
     "text": [
      "k   9\n"
     ]
    },
    {
     "name": "stderr",
     "output_type": "stream",
     "text": [
      "  2%|▏         | 11/573 [00:35<30:30,  3.26s/it]"
     ]
    },
    {
     "name": "stdout",
     "output_type": "stream",
     "text": [
      "k   10\n"
     ]
    },
    {
     "name": "stderr",
     "output_type": "stream",
     "text": [
      "\n"
     ]
    }
   ],
   "source": [
    "answer_df = pd.read_csv('filled_answer.csv', index_col=0)\n",
    "data2_path = 'Дата-сет для задачи №2\\\\'\n",
    "file_names = os.listdir('Дата-сет для задачи №1\\Разметка')\n",
    "data2_full = []\n",
    "columns_orig = pd.read_csv(data2_path+os.listdir(data2_path)[2], sep=';', encoding='windows-1251').columns\n",
    "k=0\n",
    "for csv_file in tqdm(os.listdir(data2_path)):\n",
    "    try:\n",
    "        tmp_df = pd.read_csv(data2_path+csv_file, sep=';', encoding='windows-1251')       \n",
    "        if set(tmp_df.columns) != set(columns_orig):\n",
    "            continue\n",
    "        data2_full.append(tmp_df[tmp_df['Наименование_файла_с_описанием'].isin(file_names)])\n",
    "        k += 1\n",
    "        print('k  ', k)\n",
    "        if k == 10:\n",
    "            break\n",
    "    except:\n",
    "        print(csv_file)\n",
    "\n",
    "data2_full=pd.concat(data2_full)"
   ]
  },
  {
   "cell_type": "code",
   "execution_count": 24,
   "metadata": {},
   "outputs": [],
   "source": [
    "data2_full.to_csv('sample_data2_full.csv')\n",
    "data2_full = pd.read_csv('sample_data2_full.csv', index_col=0)\n",
    "data2_full.reset_index(drop=True, inplace=True)\n",
    "data2_full.info()\n",
    "answ2_data = data2_full.drop(columns='Единица_измерения_СИ').merge(answer_df[['Наименование_файла_с_описанием','Номер_в_госреестре', 'Единица_измерения_СИ']],\n",
    "                            how='left',\n",
    "                            on=['Наименование_файла_с_описанием', 'Номер_в_госреестре'])\n",
    "cols = set(answ2_data.columns) - {'Дата_поверки_СИ'}\n",
    "answ2_data = answ2_data.sort_values(by='Дата_поверки_СИ').drop_duplicates(cols)\n",
    "grouped_data = answ2_data.groupby('Единица_измерения_СИ').agg({'Производитель_СИ':lambda x: list(x)})\n",
    "grouped_data\n",
    "def mother_market_parts(comp_list):\n",
    "    mother_comps=0\n",
    "    for comp in comp_list:\n",
    "        if len(re.findall(\"([А-я])\", comp)) / (len(re.findall(\"([A-z])\", comp)) + 1e-4) > 1:\n",
    "            mother_comps += 1\n",
    "    return mother_comps / len(comp_list)\n",
    "\n",
    "result = grouped_data['Производитель_СИ'].apply(mother_market_parts)"
   ]
  },
  {
   "cell_type": "code",
   "execution_count": 69,
   "metadata": {},
   "outputs": [
    {
     "data": {
      "text/plain": [
       "Единица_измерения_СИ\n",
       "°С    0.767677\n",
       "А     0.595745\n",
       "В     0.351064\n",
       "г     0.160000\n",
       "кВ    1.000000\n",
       "кг    0.285714\n",
       "м     0.873950\n",
       "м3    0.837607\n",
       "мм    0.412913\n",
       "т     0.776042\n",
       "Name: Производитель_СИ, dtype: float64"
      ]
     },
     "execution_count": 69,
     "metadata": {},
     "output_type": "execute_result"
    }
   ],
   "source": [
    "result"
   ]
  },
  {
   "cell_type": "code",
   "execution_count": 70,
   "metadata": {},
   "outputs": [
    {
     "data": {
      "image/png": "[encoded data removed]",
      "text/plain": [
       "<Figure size 432x288 with 1 Axes>"
      ]
     },
     "metadata": {
      "needs_background": "light"
     },
     "output_type": "display_data"
    }
   ],
   "source": [
    "import matplotlib.pyplot as plt\n",
    "plt.bar(np.arange(len(result)), result.values)\n",
    "plt.xticks(np.arange(len(result)), result.index)\n",
    "plt.show()"
   ]
  }
 ],
 "metadata": {
  "interpreter": {
   "hash": "7cc005b3bc148af7d0fb17f84f7c8b2766258f8d8232b64f86a7d093c3d20f22"
  },
  "kernelspec": {
   "display_name": "Python 3.9.13 64-bit (windows store)",
   "language": "python",
   "name": "python3"
  },
  "language_info": {
   "codemirror_mode": {
    "name": "ipython",
    "version": 3
   },
   "file_extension": ".py",
   "mimetype": "text/x-python",
   "name": "python",
   "nbconvert_exporter": "python",
   "pygments_lexer": "ipython3",
   "version": "3.9.13"
  },
  "orig_nbformat": 4
 },
 "nbformat": 4,
 "nbformat_minor": 2
}
